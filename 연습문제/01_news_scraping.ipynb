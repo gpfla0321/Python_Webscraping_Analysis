{
 "cells": [
  {
   "cell_type": "markdown",
   "id": "384d95bc",
   "metadata": {},
   "source": [
    "1 Daum 뉴스기사 제목 스크래핑하기"
   ]
  },
  {
   "cell_type": "code",
   "execution_count": 17,
   "id": "22ba5ed2",
   "metadata": {},
   "outputs": [
    {
     "name": "stdout",
     "output_type": "stream",
     "text": [
      "https://news.daum.net/economy\n",
      "<class 'requests.models.Response'>\n",
      "200\n",
      "<class 'bs4.element.ResultSet'> 9\n",
      "https://v.daum.net/v/20250409100338422\n",
      "기름 넣을 때마다 내는 세금, 적절한 곳에 쓰고 있나요? [질문+]\n",
      "https://v.daum.net/v/20250409100040256\n",
      "'원금지급·초과수익' 첫 IMA 연내지정…한국판 골드만삭스 시동\n",
      "https://v.daum.net/v/20250409100011190\n",
      "'원금지급' IMA 제도, 8년 만에 구체화…하반기에 8조 종투사 지정\n",
      "https://v.daum.net/v/20250409095612972\n",
      "회사는 주주만의 것? 상법 개정이 품은 위험\n",
      "https://v.daum.net/v/20250409095604965\n",
      "발의자가 설명하는 ‘상법 왜 바꿨나’\n",
      "https://v.daum.net/v/20250409095558958\n",
      "K밸류업 외치는 사이, 무너지는 한국 제조업\n",
      "https://v.daum.net/v/20250409095110733\n",
      "[친절한 경제] 초고령 사회 진입…'정년 연장'보다 필요한 근로 형태는?\n",
      "https://v.daum.net/v/20250409094730569\n",
      "3월 취업자 19.3만 늘었지만…청년·건설·제조업 '고용한파' 지속(종합)\n",
      "https://v.daum.net/v/20250409091935326\n",
      "‘회복’이라는 착시.. “청년은 떠났고, 일터는 비어 있다”\n"
     ]
    }
   ],
   "source": [
    "import requests\n",
    "from bs4 import BeautifulSoup\n",
    "\n",
    "# 다음 경제 뉴스 URL\n",
    "url = 'https://news.daum.net/economy'\n",
    "\n",
    "print(url)\n",
    "\n",
    "# 요청 헤더\n",
    "req_header = {\n",
    "    'user-agent': 'Mozilla/5.0 (Windows NT 10.0; Win64; x64) AppleWebKit/537.36 (KHTML, like Gecko) Chrome/104.0.0.0 Safari/537.36'\n",
    "}\n",
    "\n",
    "res = requests.get(url, headers=req_header)\n",
    "print(type(res))\n",
    "print(res.status_code)\n",
    "\n",
    "# 정상 응답 여부 확인\n",
    "if res.ok:\n",
    "    res.encoding = 'utf-8' \n",
    "    html = res.text\n",
    "    soup = BeautifulSoup(html, 'html.parser')\n",
    "    \n",
    "    # 기사 제목과 링크 추출\n",
    "    # [<li></li>,<li></li>]\n",
    "    li_tag_list = soup.select('ul.list_newsheadline2 li')\n",
    "\n",
    "    print(type(li_tag_list), len(li_tag_list))\n",
    "\n",
    "    for li_tag in li_tag_list:        \n",
    "        a_tag = li_tag.find('a')\n",
    "        print(a_tag['href'])\n",
    "        \n",
    "        # select() => ResultSet, select_one() => Tag\n",
    "        strong_tags = li_tag.select('div.cont_thumb strong.tit_txt')\n",
    "        if strong_tags:\n",
    "            strong_tag = strong_tags[0]\n",
    "        #strong_tag = li_tag.select_one('div.cont_thumb strong.tit_txt')\n",
    "        title = strong_tag.text.strip()\n",
    "        print(title)\n",
    "\n",
    "\n",
    "else:\n",
    "    print(f'에러코드 = {res.status_code}')"
   ]
  },
  {
   "cell_type": "code",
   "execution_count": 12,
   "id": "2d8b622d",
   "metadata": {},
   "outputs": [
    {
     "data": {
      "text/plain": [
       "{'기후/환경': 'climate',\n",
       " '사회': 'society',\n",
       " '경제': 'economy',\n",
       " '정치': 'politics',\n",
       " '국제': 'world',\n",
       " '문화': 'culture',\n",
       " '생활': 'life',\n",
       " 'IT/과학': 'tech',\n",
       " '인물': 'people'}"
      ]
     },
     "execution_count": 12,
     "metadata": {},
     "output_type": "execute_result"
    }
   ],
   "source": [
    "section_dict = {'기후/환경':'climate','사회':'society','경제':'economy','정치':'politics',\\\n",
    "                '국제':'world','문화':'culture','생활':'life','IT/과학':'tech','인물':'people'}\n",
    "section_dict"
   ]
  },
  {
   "cell_type": "code",
   "execution_count": 21,
   "id": "e8192c23",
   "metadata": {},
   "outputs": [],
   "source": [
    "import requests\n",
    "from bs4 import BeautifulSoup\n",
    "\n",
    "def print_news(section_name):    \n",
    "    #section = section_dict[section_name]\n",
    "    section = section_dict.get(section_name)\n",
    "    if section is None:\n",
    "        print('요청하신 Key가 없습니다.')\n",
    "    else:    \n",
    "        # 요청 Parameter\n",
    "        req_param = {\n",
    "            'section': section\n",
    "        }\n",
    "        url = 'https://news.daum.net/{section}'.format(**req_param)\n",
    "        \n",
    "        print(f'======> {url} {section_name} 뉴스 <======')\n",
    "        \n",
    "        # 요청 헤더 설정 : 브라우저 정보\n",
    "        req_header = {\n",
    "            'user-agent': 'Mozilla/5.0 (Windows NT 10.0; Win64; x64) AppleWebKit/537.36 (KHTML, like Gecko) Chrome/104.0.0.0 Safari/537.36'\n",
    "        }\n",
    "\n",
    "        res = requests.get(url, headers=req_header)   \n",
    "\n",
    "        if res.ok:\n",
    "            res.encoding = 'utf-8' \n",
    "            html = res.text\n",
    "            soup = BeautifulSoup(html, 'html.parser')\n",
    "            \n",
    "            # 기사 제목과 링크 추출\n",
    "            li_tag_list = soup.select('ul.list_newsheadline2 li')\n",
    "\n",
    "            #print(type(li_tag_list), len(li_tag_list))\n",
    "\n",
    "            for li_tag in li_tag_list:        \n",
    "                a_tag = li_tag.find('a')\n",
    "                print(a_tag['href'])\n",
    "                \n",
    "                strong_tag = li_tag.select_one('div.cont_thumb strong.tit_txt')\n",
    "                title = strong_tag.text.strip()\n",
    "                print(title)\n",
    "\n",
    "        else:\n",
    "            print(f'에러코드 = {res.status_code}')"
   ]
  },
  {
   "cell_type": "code",
   "execution_count": 14,
   "id": "bfd12c6b",
   "metadata": {},
   "outputs": [
    {
     "name": "stdout",
     "output_type": "stream",
     "text": [
      "======> https://news.daum.net/economy 경제 뉴스 <======\n",
      "https://v.daum.net/v/20250409095612972\n",
      "회사는 주주만의 것? 상법 개정이 품은 위험\n",
      "https://v.daum.net/v/20250409095604965\n",
      "발의자가 설명하는 ‘상법 왜 바꿨나’\n",
      "https://v.daum.net/v/20250409095558958\n",
      "K밸류업 외치는 사이, 무너지는 한국 제조업\n",
      "https://v.daum.net/v/20250409095110733\n",
      "[친절한 경제] 초고령 사회 진입…'정년 연장'보다 필요한 근로 형태는?\n",
      "https://v.daum.net/v/20250409094730569\n",
      "3월 취업자 19.3만 늘었지만…청년·건설·제조업 '고용한파' 지속(종합)\n",
      "https://v.daum.net/v/20250409093301936\n",
      "투심 끊긴 CBD 오피스…\"이 값엔 못 팔아\" 잇단 매각 철회도\n",
      "https://v.daum.net/v/20250409091935326\n",
      "‘회복’이라는 착시.. “청년은 떠났고, 일터는 비어 있다”\n",
      "https://v.daum.net/v/20250409091646199\n",
      "[뉴스UP] 미국, 오늘부터 25% 상호관세...뭐가 어떻게 바뀌나?\n",
      "https://v.daum.net/v/20250409081220033\n",
      "[美 관세대응]수출바우처 1000억·긴급경영자금 2500억…남미로 수출다변화\n"
     ]
    }
   ],
   "source": [
    "print_news('경제2')"
   ]
  },
  {
   "cell_type": "markdown",
   "id": "3ba61962",
   "metadata": {},
   "source": [
    "2-1. Nate 뉴스기사 제목 스크래핑하기"
   ]
  },
  {
   "cell_type": "code",
   "execution_count": 1,
   "id": "47fe14e8",
   "metadata": {},
   "outputs": [
    {
     "name": "stdout",
     "output_type": "stream",
     "text": [
      "https://news.nate.com/recent?mid=n0100\n",
      "<class 'requests.models.Response'>\n",
      "200\n",
      "20\n",
      "============>> 1\n",
      "https://news.nate.com/view/20250410n09002?mid=n0100\n",
      "https://thumbnews.nateimg.co.kr/news90///news.nateimg.co.kr/orgImg/cz/2025/04/10/cz_1744245315622_273525_0.jpg\n"
     ]
    },
    {
     "data": {
      "text/html": [
       "<img src=\"https://thumbnews.nateimg.co.kr/news90///news.nateimg.co.kr/orgImg/cz/2025/04/10/cz_1744245315622_273525_0.jpg\"/>"
      ],
      "text/plain": [
       "<IPython.core.display.Image object>"
      ]
     },
     "metadata": {},
     "output_type": "display_data"
    },
    {
     "name": "stdout",
     "output_type": "stream",
     "text": [
      "'친윤' 원희룡 이어 김기현도 대선 불출마…\"탄핵 책임 통감\"\n",
      "============>> 2\n",
      "https://news.nate.com/view/20250410n01841?mid=n0100\n",
      "https://thumbnews.nateimg.co.kr/news90///news.nateimg.co.kr/orgImg/hn/2025/04/10/20250409504135.jpg\n"
     ]
    },
    {
     "data": {
      "text/html": [
       "<img src=\"https://thumbnews.nateimg.co.kr/news90///news.nateimg.co.kr/orgImg/hn/2025/04/10/20250409504135.jpg\"/>"
      ],
      "text/plain": [
       "<IPython.core.display.Image object>"
      ]
     },
     "metadata": {},
     "output_type": "display_data"
    },
    {
     "name": "stdout",
     "output_type": "stream",
     "text": [
      "방위비 끌어들인 미 관세전쟁…\"임시직 한덕수, 재협상은 월권\"\n",
      "============>> 3\n",
      "https://news.nate.com/view/20250410n09000?mid=n0100\n",
      "https://thumbnews.nateimg.co.kr/news90///news.nateimg.co.kr/orgImg/na/2025/04/10/7227407_high.jpg\n"
     ]
    },
    {
     "data": {
      "text/html": [
       "<img src=\"https://thumbnews.nateimg.co.kr/news90///news.nateimg.co.kr/orgImg/na/2025/04/10/7227407_high.jpg\"/>"
      ],
      "text/plain": [
       "<IPython.core.display.Image object>"
      ]
     },
     "metadata": {},
     "output_type": "display_data"
    },
    {
     "name": "stdout",
     "output_type": "stream",
     "text": [
      "하현상, 23일 신곡 '고양이' 발매…더 깊어진 감성 예고\n",
      "============>> 4\n",
      "https://news.nate.com/view/20250410n01283?mid=n0100\n",
      "https://thumbnews.nateimg.co.kr/news90///news.nateimg.co.kr/orgImg/hn/2025/04/10/20250409503980.jpg\n"
     ]
    },
    {
     "data": {
      "text/html": [
       "<img src=\"https://thumbnews.nateimg.co.kr/news90///news.nateimg.co.kr/orgImg/hn/2025/04/10/20250409503980.jpg\"/>"
      ],
      "text/plain": [
       "<IPython.core.display.Image object>"
      ]
     },
     "metadata": {},
     "output_type": "display_data"
    },
    {
     "name": "stdout",
     "output_type": "stream",
     "text": [
      "트럼프, 한국 등 상호관세 90일 유예…중국은 125%로 인상\n",
      "============>> 5\n",
      "https://news.nate.com/view/20250410n07404?mid=n0100\n",
      "https://thumbnews.nateimg.co.kr/news90///news.nateimg.co.kr/orgImg/cz/2025/04/10/cz_1744245304872_66233_0.jpg\n"
     ]
    },
    {
     "data": {
      "text/html": [
       "<img src=\"https://thumbnews.nateimg.co.kr/news90///news.nateimg.co.kr/orgImg/cz/2025/04/10/cz_1744245304872_66233_0.jpg\"/>"
      ],
      "text/plain": [
       "<IPython.core.display.Image object>"
      ]
     },
     "metadata": {},
     "output_type": "display_data"
    },
    {
     "name": "stdout",
     "output_type": "stream",
     "text": [
      "코스피 매수 사이드카 발동…작년 8월 이후 8개월 만\n",
      "============>> 6\n",
      "https://news.nate.com/view/20250410n08997?mid=n0100\n",
      "https://thumbnews.nateimg.co.kr/news90///news.nateimg.co.kr/orgImg/ae/2025/04/10/ae_1744245313923_474774_0.jpg\n"
     ]
    },
    {
     "data": {
      "text/html": [
       "<img src=\"https://thumbnews.nateimg.co.kr/news90///news.nateimg.co.kr/orgImg/ae/2025/04/10/ae_1744245313923_474774_0.jpg\"/>"
      ],
      "text/plain": [
       "<IPython.core.display.Image object>"
      ]
     },
     "metadata": {},
     "output_type": "display_data"
    },
    {
     "name": "stdout",
     "output_type": "stream",
     "text": [
      "수성구 범어동 '1번지' 어나드 범어 뜬다\n",
      "============>> 7\n",
      "https://news.nate.com/view/20250410n08996?mid=n0100\n",
      "https://thumbnews.nateimg.co.kr/news90///news.nateimg.co.kr/orgImg/na/2025/04/10/7227396_high.jpg\n"
     ]
    },
    {
     "data": {
      "text/html": [
       "<img src=\"https://thumbnews.nateimg.co.kr/news90///news.nateimg.co.kr/orgImg/na/2025/04/10/7227396_high.jpg\"/>"
      ],
      "text/plain": [
       "<IPython.core.display.Image object>"
      ]
     },
     "metadata": {},
     "output_type": "display_data"
    },
    {
     "name": "stdout",
     "output_type": "stream",
     "text": [
      "'프리 선언' 김대호 \"10년 안에 빠른 은퇴하겠다\"\n",
      "============>> 8\n",
      "https://news.nate.com/view/20250410n03946?mid=n0100\n",
      "https://thumbnews.nateimg.co.kr/news90///news.nateimg.co.kr/orgImg/ae/2025/04/10/ae_1744245307608_316286_0.png\n"
     ]
    },
    {
     "data": {
      "text/html": [
       "<img src=\"https://thumbnews.nateimg.co.kr/news90///news.nateimg.co.kr/orgImg/ae/2025/04/10/ae_1744245307608_316286_0.png\"/>"
      ],
      "text/plain": [
       "<IPython.core.display.Image object>"
      ]
     },
     "metadata": {},
     "output_type": "display_data"
    },
    {
     "name": "stdout",
     "output_type": "stream",
     "text": [
      "\"韓, OECD대비 자녀 유무 따른 세금격차 너무 작아\"\n",
      "============>> 9\n",
      "https://news.nate.com/view/20250410n08994?mid=n0100\n",
      "https://thumbnews.nateimg.co.kr/news90///news.nateimg.co.kr/orgImg/na/2025/04/10/7227378_high.jpg\n"
     ]
    },
    {
     "data": {
      "text/html": [
       "<img src=\"https://thumbnews.nateimg.co.kr/news90///news.nateimg.co.kr/orgImg/na/2025/04/10/7227378_high.jpg\"/>"
      ],
      "text/plain": [
       "<IPython.core.display.Image object>"
      ]
     },
     "metadata": {},
     "output_type": "display_data"
    },
    {
     "name": "stdout",
     "output_type": "stream",
     "text": [
      "넥스지, 신보 수록곡 '시머' MV 티저 공개…끓어 넘치는 에너지\n",
      "============>> 10\n",
      "https://news.nate.com/view/20250410n08993?mid=n0100\n",
      "https://thumbnews.nateimg.co.kr/news90///news.nateimg.co.kr/orgImg/xs/2025/04/10/1744242841153769.jpg\n"
     ]
    },
    {
     "data": {
      "text/html": [
       "<img src=\"https://thumbnews.nateimg.co.kr/news90///news.nateimg.co.kr/orgImg/xs/2025/04/10/1744242841153769.jpg\"/>"
      ],
      "text/plain": [
       "<IPython.core.display.Image object>"
      ]
     },
     "metadata": {},
     "output_type": "display_data"
    },
    {
     "name": "stdout",
     "output_type": "stream",
     "text": [
      "\"가렸는데 잘생겼어\" 이민정, ♥이병헌 닮은 아들·본인 닮은 딸 공개…반응 '활활' [엑's 이슈]\n",
      "============>> 11\n",
      "https://news.nate.com/view/20250410n08992?mid=n0100\n",
      "https://thumbnews.nateimg.co.kr/news90///news.nateimg.co.kr/orgImg/yt/2025/04/10/PYH2025041002790001301_P2.jpg\n"
     ]
    },
    {
     "data": {
      "text/html": [
       "<img src=\"https://thumbnews.nateimg.co.kr/news90///news.nateimg.co.kr/orgImg/yt/2025/04/10/PYH2025041002790001301_P2.jpg\"/>"
      ],
      "text/plain": [
       "<IPython.core.display.Image object>"
      ]
     },
     "metadata": {},
     "output_type": "display_data"
    },
    {
     "name": "stdout",
     "output_type": "stream",
     "text": [
      "금융감독원장-자산운용사 CEO 간담회\n",
      "============>> 12\n",
      "https://news.nate.com/view/20250410n08872?mid=n0100\n",
      "https://thumbnews.nateimg.co.kr/news90///news.nateimg.co.kr/orgImg/yt/2025/04/10/AKR20250410039351008_02_i.jpg\n"
     ]
    },
    {
     "data": {
      "text/html": [
       "<img src=\"https://thumbnews.nateimg.co.kr/news90///news.nateimg.co.kr/orgImg/yt/2025/04/10/AKR20250410039351008_02_i.jpg\"/>"
      ],
      "text/plain": [
       "<IPython.core.display.Image object>"
      ]
     },
     "metadata": {},
     "output_type": "display_data"
    },
    {
     "name": "stdout",
     "output_type": "stream",
     "text": [
      "美상호관세 유예에…코스피 단숨에 5% 올라 2,400대 회복(종합)\n",
      "============>> 13\n",
      "https://news.nate.com/view/20250410n08989?mid=n0100\n",
      "https://thumbnews.nateimg.co.kr/news90///news.nateimg.co.kr/orgImg/hr/2025/04/10/rcv.YNA.20241023.PYH2024102311260005100_P1.jpg\n"
     ]
    },
    {
     "data": {
      "text/html": [
       "<img src=\"https://thumbnews.nateimg.co.kr/news90///news.nateimg.co.kr/orgImg/hr/2025/04/10/rcv.YNA.20241023.PYH2024102311260005100_P1.jpg\"/>"
      ],
      "text/plain": [
       "<IPython.core.display.Image object>"
      ]
     },
     "metadata": {},
     "output_type": "display_data"
    },
    {
     "name": "stdout",
     "output_type": "stream",
     "text": [
      "정성호 \"韓대행의 이완규 지명, '헌법 84조' 해석 관련 아닌가\"\n",
      "============>> 14\n",
      "https://news.nate.com/view/20250410n06710?mid=n0100\n",
      "https://thumbnews.nateimg.co.kr/news90///news.nateimg.co.kr/orgImg/na/2025/04/10/7227466_high.jpg\n"
     ]
    },
    {
     "data": {
      "text/html": [
       "<img src=\"https://thumbnews.nateimg.co.kr/news90///news.nateimg.co.kr/orgImg/na/2025/04/10/7227466_high.jpg\"/>"
      ],
      "text/plain": [
       "<IPython.core.display.Image object>"
      ]
     },
     "metadata": {},
     "output_type": "display_data"
    },
    {
     "name": "stdout",
     "output_type": "stream",
     "text": [
      "토요일 왕복 택시비 최대 2만원 받자…우버 '놀토 프로모션'\n",
      "============>> 15\n",
      "https://news.nate.com/view/20250410n08986?mid=n0100\n",
      "https://thumbnews.nateimg.co.kr/news90///news.nateimg.co.kr/orgImg/yt/2025/04/10/AKR20250410050100003_01_i.jpg\n"
     ]
    },
    {
     "data": {
      "text/html": [
       "<img src=\"https://thumbnews.nateimg.co.kr/news90///news.nateimg.co.kr/orgImg/yt/2025/04/10/AKR20250410050100003_01_i.jpg\"/>"
      ],
      "text/plain": [
       "<IPython.core.display.Image object>"
      ]
     },
     "metadata": {},
     "output_type": "display_data"
    },
    {
     "name": "stdout",
     "output_type": "stream",
     "text": [
      "'트럼프 25% 관세 대응'…산업부, 반도체 경쟁력 강화 지원\n",
      "============>> 16\n",
      "https://news.nate.com/view/20250410n08985?mid=n0100\n",
      "https://thumbnews.nateimg.co.kr/news90///news.nateimg.co.kr/orgImg/es/2025/04/10/PS25041000055.jpg\n"
     ]
    },
    {
     "data": {
      "text/html": [
       "<img src=\"https://thumbnews.nateimg.co.kr/news90///news.nateimg.co.kr/orgImg/es/2025/04/10/PS25041000055.jpg\"/>"
      ],
      "text/plain": [
       "<IPython.core.display.Image object>"
      ]
     },
     "metadata": {},
     "output_type": "display_data"
    },
    {
     "name": "stdout",
     "output_type": "stream",
     "text": [
      "'거룩한 밤' 마동석·서현·이다윗, 거룩한 케미 치이네…강렬한 시너지\n",
      "============>> 17\n",
      "https://news.nate.com/view/20250410n08984?mid=n0100\n",
      "https://thumbnews.nateimg.co.kr/news90///news.nateimg.co.kr/orgImg/yt/2025/04/10/AKR20250410051700017_01_i.jpg\n"
     ]
    },
    {
     "data": {
      "text/html": [
       "<img src=\"https://thumbnews.nateimg.co.kr/news90///news.nateimg.co.kr/orgImg/yt/2025/04/10/AKR20250410051700017_01_i.jpg\"/>"
      ],
      "text/plain": [
       "<IPython.core.display.Image object>"
      ]
     },
     "metadata": {},
     "output_type": "display_data"
    },
    {
     "name": "stdout",
     "output_type": "stream",
     "text": [
      "[게시판] 대웅제약, ISO 정보 보호 표준 2종 획득\n",
      "============>> 18\n",
      "https://news.nate.com/view/20250410n08982?mid=n0100\n",
      "https://thumbnews.nateimg.co.kr/news90///news.nateimg.co.kr/orgImg/nn/2025/04/10/202504100934033510_1.jpg\n"
     ]
    },
    {
     "data": {
      "text/html": [
       "<img src=\"https://thumbnews.nateimg.co.kr/news90///news.nateimg.co.kr/orgImg/nn/2025/04/10/202504100934033510_1.jpg\"/>"
      ],
      "text/plain": [
       "<IPython.core.display.Image object>"
      ]
     },
     "metadata": {},
     "output_type": "display_data"
    },
    {
     "name": "stdout",
     "output_type": "stream",
     "text": [
      "박지현 '프랑스로 떠나는 파리 여신'[포토엔HD]\n",
      "============>> 19\n",
      "https://news.nate.com/view/20250410n08981?mid=n0100\n",
      "https://thumbnews.nateimg.co.kr/news90///news.nateimg.co.kr/orgImg/ns/2025/04/10/NISI20170625_0000010443_web.jpg\n"
     ]
    },
    {
     "data": {
      "text/html": [
       "<img src=\"https://thumbnews.nateimg.co.kr/news90///news.nateimg.co.kr/orgImg/ns/2025/04/10/NISI20170625_0000010443_web.jpg\"/>"
      ],
      "text/plain": [
       "<IPython.core.display.Image object>"
      ]
     },
     "metadata": {},
     "output_type": "display_data"
    },
    {
     "name": "stdout",
     "output_type": "stream",
     "text": [
      "'반숙 말고 완숙' 요청했더니…볶음밥 버린 식당 사장\n",
      "============>> 20\n",
      "https://news.nate.com/view/20250410n08980?mid=n0100\n",
      "https://thumbnews.nateimg.co.kr/news90///news.nateimg.co.kr/orgImg/ae/2025/04/10/ae_1744245307193_434166_0.jpg\n"
     ]
    },
    {
     "data": {
      "text/html": [
       "<img src=\"https://thumbnews.nateimg.co.kr/news90///news.nateimg.co.kr/orgImg/ae/2025/04/10/ae_1744245307193_434166_0.jpg\"/>"
      ],
      "text/plain": [
       "<IPython.core.display.Image object>"
      ]
     },
     "metadata": {},
     "output_type": "display_data"
    },
    {
     "name": "stdout",
     "output_type": "stream",
     "text": [
      "이재명 '우클릭 행보'에…진보단일후보 대선판 흔드나\n"
     ]
    }
   ],
   "source": [
    "import requests\n",
    "from bs4 import BeautifulSoup\n",
    "from urllib.parse import urljoin\n",
    "from IPython.display import Image, display\n",
    "\n",
    "url = 'https://news.nate.com/recent?mid=n0100'\n",
    "print(url)\n",
    "\n",
    "req_header = {\n",
    "    'user-agent': 'Mozilla/5.0 (Windows NT 10.0; Win64; x64) AppleWebKit/537.36 (KHTML, like Gecko) Chrome/104.0.0.0 Safari/537.36'\n",
    "}\n",
    "\n",
    "res = requests.get(url, headers=req_header)\n",
    "print(type(res))\n",
    "print(res.status_code)\n",
    "\n",
    "if res.ok:\n",
    "    res.encoding = 'euc-kr'\n",
    "    html = res.text\n",
    "    soup = BeautifulSoup(html, 'html.parser')\n",
    "    \n",
    "    tags = soup.select(\"div.postListType.noListTitle div.mlt01\")\n",
    "    print(len(tags))\n",
    "\n",
    "    for idx,div_tag in enumerate(tags,1): \n",
    "        print(f'============>> {idx}')       \n",
    "        a_tag = div_tag.find('a')\n",
    "        a_join_url = urljoin(url,a_tag['href'])\n",
    "        print(a_join_url)\n",
    "\n",
    "        img_tag = div_tag.select_one('span.ib img')\n",
    "        if img_tag:\n",
    "            photo_url = urljoin(url,img_tag['src'])\n",
    "            print(photo_url)\n",
    "            display(Image(url=photo_url))\n",
    "\n",
    "        h2_tag = div_tag.select_one('span.tb h2.tit')\n",
    "        title = h2_tag.text\n",
    "        print(title)\n",
    "\n",
    "else:\n",
    "    print(f'에러코드 = {res.status_code}')"
   ]
  },
  {
   "cell_type": "code",
   "execution_count": 2,
   "id": "8bc5bf51",
   "metadata": {},
   "outputs": [
    {
     "name": "stdout",
     "output_type": "stream",
     "text": [
      "{'최신뉴스': 'n0100', '정치': 'n0200', '경제': 'n0300', '사회': 'n0400', '세계': 'n0500', 'IT/과학': 'n0600'}\n",
      "https://news.nate.com/recent?mid=n0600\n",
      "<class 'requests.models.Response'>\n",
      "200\n",
      "======> https://news.nate.com/recent?mid=n0600 IT/과학 뉴스 <======\n",
      "20\n",
      "============>> 1\n",
      "https://news.nate.com/view/20250410n09057?mid=n0600\n",
      "https://thumbnews.nateimg.co.kr/news90///news.nateimg.co.kr/orgImg/mt/2025/04/10/2025041009330247117_1.jpg\n"
     ]
    },
    {
     "data": {
      "text/html": [
       "<img src=\"https://thumbnews.nateimg.co.kr/news90///news.nateimg.co.kr/orgImg/mt/2025/04/10/2025041009330247117_1.jpg\"/>"
      ],
      "text/plain": [
       "<IPython.core.display.Image object>"
      ]
     },
     "metadata": {},
     "output_type": "display_data"
    },
    {
     "name": "stdout",
     "output_type": "stream",
     "text": [
      "\"우버택시 타고 봄 나들이\"…'놀토'에 왕복 택시비 2만원 쏜다\n",
      "============>> 2\n",
      "https://news.nate.com/view/20250410n09012?mid=n0600\n",
      "https://thumbnews.nateimg.co.kr/news90///news.nateimg.co.kr/orgImg/hn/2025/04/10/20250410500661.jpg\n"
     ]
    },
    {
     "data": {
      "text/html": [
       "<img src=\"https://thumbnews.nateimg.co.kr/news90///news.nateimg.co.kr/orgImg/hn/2025/04/10/20250410500661.jpg\"/>"
      ],
      "text/plain": [
       "<IPython.core.display.Image object>"
      ]
     },
     "metadata": {},
     "output_type": "display_data"
    },
    {
     "name": "stdout",
     "output_type": "stream",
     "text": [
      "구강 건강이 뇌 건강…입안 미생물 따라 인지력 달라져\n",
      "============>> 3\n",
      "https://news.nate.com/view/20250410n08986?mid=n0600\n",
      "https://thumbnews.nateimg.co.kr/news90///news.nateimg.co.kr/orgImg/yt/2025/04/10/AKR20250410050100003_01_i.jpg\n"
     ]
    },
    {
     "data": {
      "text/html": [
       "<img src=\"https://thumbnews.nateimg.co.kr/news90///news.nateimg.co.kr/orgImg/yt/2025/04/10/AKR20250410050100003_01_i.jpg\"/>"
      ],
      "text/plain": [
       "<IPython.core.display.Image object>"
      ]
     },
     "metadata": {},
     "output_type": "display_data"
    },
    {
     "name": "stdout",
     "output_type": "stream",
     "text": [
      "'트럼프 25% 관세 대응'…산업부, 반도체 경쟁력 강화 지원\n",
      "============>> 4\n",
      "https://news.nate.com/view/20250410n08984?mid=n0600\n",
      "https://thumbnews.nateimg.co.kr/news90///news.nateimg.co.kr/orgImg/yt/2025/04/10/AKR20250410051700017_01_i.jpg\n"
     ]
    },
    {
     "data": {
      "text/html": [
       "<img src=\"https://thumbnews.nateimg.co.kr/news90///news.nateimg.co.kr/orgImg/yt/2025/04/10/AKR20250410051700017_01_i.jpg\"/>"
      ],
      "text/plain": [
       "<IPython.core.display.Image object>"
      ]
     },
     "metadata": {},
     "output_type": "display_data"
    },
    {
     "name": "stdout",
     "output_type": "stream",
     "text": [
      "[게시판] 대웅제약, ISO 정보 보호 표준 2종 획득\n",
      "============>> 5\n",
      "https://news.nate.com/view/20250410n08899?mid=n0600\n",
      "https://thumbnews.nateimg.co.kr/news90///news.nateimg.co.kr/orgImg/cz/2025/04/10/cz_1744245196496_973271_0.jpg\n"
     ]
    },
    {
     "data": {
      "text/html": [
       "<img src=\"https://thumbnews.nateimg.co.kr/news90///news.nateimg.co.kr/orgImg/cz/2025/04/10/cz_1744245196496_973271_0.jpg\"/>"
      ],
      "text/plain": [
       "<IPython.core.display.Image object>"
      ]
     },
     "metadata": {},
     "output_type": "display_data"
    },
    {
     "name": "stdout",
     "output_type": "stream",
     "text": [
      "돌비, 美 AMC와 파트너십 확대…2027년까지 돌비 시네마 40개 추가 개관\n",
      "============>> 6\n",
      "https://news.nate.com/view/20250410n08817?mid=n0600\n",
      "https://thumbnews.nateimg.co.kr/news90///news.nateimg.co.kr/orgImg/yt/2025/04/10/AKR20250410048300017_01_i.jpg\n"
     ]
    },
    {
     "data": {
      "text/html": [
       "<img src=\"https://thumbnews.nateimg.co.kr/news90///news.nateimg.co.kr/orgImg/yt/2025/04/10/AKR20250410048300017_01_i.jpg\"/>"
      ],
      "text/plain": [
       "<IPython.core.display.Image object>"
      ]
     },
     "metadata": {},
     "output_type": "display_data"
    },
    {
     "name": "stdout",
     "output_type": "stream",
     "text": [
      "[게시판] 광동제약, 뉴질랜드와 녹용 산업 협력 강화\n",
      "============>> 7\n",
      "https://news.nate.com/view/20250410n08757?mid=n0600\n",
      "https://thumbnews.nateimg.co.kr/news90///news.nateimg.co.kr/orgImg/ed/2025/04/10/PS25040900209.jpg\n"
     ]
    },
    {
     "data": {
      "text/html": [
       "<img src=\"https://thumbnews.nateimg.co.kr/news90///news.nateimg.co.kr/orgImg/ed/2025/04/10/PS25040900209.jpg\"/>"
      ],
      "text/plain": [
       "<IPython.core.display.Image object>"
      ]
     },
     "metadata": {},
     "output_type": "display_data"
    },
    {
     "name": "stdout",
     "output_type": "stream",
     "text": [
      "렉라자 병용 데이터 본 아스트라제네카, 대응책은\n",
      "============>> 8\n",
      "https://news.nate.com/view/20250410n08737?mid=n0600\n",
      "https://thumbnews.nateimg.co.kr/news90///news.nateimg.co.kr/orgImg/mk/2025/04/10/news-p.v1.20250410.16e01b9620cd4d1b9a9efd66c818e393_P1.jpg\n"
     ]
    },
    {
     "data": {
      "text/html": [
       "<img src=\"https://thumbnews.nateimg.co.kr/news90///news.nateimg.co.kr/orgImg/mk/2025/04/10/news-p.v1.20250410.16e01b9620cd4d1b9a9efd66c818e393_P1.jpg\"/>"
      ],
      "text/plain": [
       "<IPython.core.display.Image object>"
      ]
     },
     "metadata": {},
     "output_type": "display_data"
    },
    {
     "name": "stdout",
     "output_type": "stream",
     "text": [
      "넷마블, '레이븐2' 대회 이벤트 '레이븐2 길드 챔피언십' 26일 개최\n",
      "============>> 9\n",
      "https://news.nate.com/view/20250410n08730?mid=n0600\n",
      "https://thumbnews.nateimg.co.kr/news90///news.nateimg.co.kr/orgImg/ed/2025/04/10/PS25040300473.jpg\n"
     ]
    },
    {
     "data": {
      "text/html": [
       "<img src=\"https://thumbnews.nateimg.co.kr/news90///news.nateimg.co.kr/orgImg/ed/2025/04/10/PS25040300473.jpg\"/>"
      ],
      "text/plain": [
       "<IPython.core.display.Image object>"
      ]
     },
     "metadata": {},
     "output_type": "display_data"
    },
    {
     "name": "stdout",
     "output_type": "stream",
     "text": [
      "한상덕 제네웰 대표 \"사업다각화로 2030년 수출 200억 달성\"\n",
      "============>> 10\n",
      "https://news.nate.com/view/20250410n08717?mid=n0600\n",
      "https://thumbnews.nateimg.co.kr/news90///news.nateimg.co.kr/orgImg/ed/2025/04/10/PS25041000418.jpg\n"
     ]
    },
    {
     "data": {
      "text/html": [
       "<img src=\"https://thumbnews.nateimg.co.kr/news90///news.nateimg.co.kr/orgImg/ed/2025/04/10/PS25041000418.jpg\"/>"
      ],
      "text/plain": [
       "<IPython.core.display.Image object>"
      ]
     },
     "metadata": {},
     "output_type": "display_data"
    },
    {
     "name": "stdout",
     "output_type": "stream",
     "text": [
      "듀켐바이오, 대만 기업에 PET 방사성의약품 기술이전\n",
      "============>> 11\n",
      "https://news.nate.com/view/20250410n08659?mid=n0600\n",
      "https://thumbnews.nateimg.co.kr/news90///news.nateimg.co.kr/orgImg/sh/2025/04/10/6894769_1135339_2935.jpg\n"
     ]
    },
    {
     "data": {
      "text/html": [
       "<img src=\"https://thumbnews.nateimg.co.kr/news90///news.nateimg.co.kr/orgImg/sh/2025/04/10/6894769_1135339_2935.jpg\"/>"
      ],
      "text/plain": [
       "<IPython.core.display.Image object>"
      ]
     },
     "metadata": {},
     "output_type": "display_data"
    },
    {
     "name": "stdout",
     "output_type": "stream",
     "text": [
      "넷마블, '레이븐2 길드 챔피언십' 오는 26일 국내 개최\n",
      "============>> 12\n",
      "https://news.nate.com/view/20250410n08651?mid=n0600\n",
      "https://thumbnews.nateimg.co.kr/news90///news.nateimg.co.kr/orgImg/in/2025/04/10/d9cb18697fcfb5.jpg\n"
     ]
    },
    {
     "data": {
      "text/html": [
       "<img src=\"https://thumbnews.nateimg.co.kr/news90///news.nateimg.co.kr/orgImg/in/2025/04/10/d9cb18697fcfb5.jpg\"/>"
      ],
      "text/plain": [
       "<IPython.core.display.Image object>"
      ]
     },
     "metadata": {},
     "output_type": "display_data"
    },
    {
     "name": "stdout",
     "output_type": "stream",
     "text": [
      "디케이테크인 \"카톡 기반 CS '챗봇나우' 누적이용자 300만 돌파\"\n",
      "============>> 13\n",
      "https://news.nate.com/view/20250410n08635?mid=n0600\n",
      "https://thumbnews.nateimg.co.kr/news90///news.nateimg.co.kr/orgImg/in/2025/04/10/8278bdc379b539.jpg\n"
     ]
    },
    {
     "data": {
      "text/html": [
       "<img src=\"https://thumbnews.nateimg.co.kr/news90///news.nateimg.co.kr/orgImg/in/2025/04/10/8278bdc379b539.jpg\"/>"
      ],
      "text/plain": [
       "<IPython.core.display.Image object>"
      ]
     },
     "metadata": {},
     "output_type": "display_data"
    },
    {
     "name": "stdout",
     "output_type": "stream",
     "text": [
      "KT, 'AXcelerator TF' 출범…2030세대 주도 AI 실전 프로젝트 가동\n",
      "============>> 14\n",
      "https://news.nate.com/view/20250410n08625?mid=n0600\n",
      "https://thumbnews.nateimg.co.kr/news90///news.nateimg.co.kr/orgImg/cz/2025/04/10/cz_1744244945078_6244_0.jpg\n"
     ]
    },
    {
     "data": {
      "text/html": [
       "<img src=\"https://thumbnews.nateimg.co.kr/news90///news.nateimg.co.kr/orgImg/cz/2025/04/10/cz_1744244945078_6244_0.jpg\"/>"
      ],
      "text/plain": [
       "<IPython.core.display.Image object>"
      ]
     },
     "metadata": {},
     "output_type": "display_data"
    },
    {
     "name": "stdout",
     "output_type": "stream",
     "text": [
      "지질자원硏, 산불 뒤 산사태 위험도 예측 기술 개발\n",
      "============>> 15\n",
      "https://news.nate.com/view/20250410n08474?mid=n0600\n",
      "https://thumbnews.nateimg.co.kr/news90///news.nateimg.co.kr/orgImg/fr/2025/04/10/art_682903_1744244213.png\n"
     ]
    },
    {
     "data": {
      "text/html": [
       "<img src=\"https://thumbnews.nateimg.co.kr/news90///news.nateimg.co.kr/orgImg/fr/2025/04/10/art_682903_1744244213.png\"/>"
      ],
      "text/plain": [
       "<IPython.core.display.Image object>"
      ]
     },
     "metadata": {},
     "output_type": "display_data"
    },
    {
     "name": "stdout",
     "output_type": "stream",
     "text": [
      "디케이테크인, 카카오톡 기반 CS '챗봇나우' 이용자수 300만 돌파\n",
      "============>> 16\n",
      "https://news.nate.com/view/20250410n08468?mid=n0600\n",
      "https://thumbnews.nateimg.co.kr/news90///news.nateimg.co.kr/orgImg/fr/2025/04/10/art_682893_1744243474.jpg\n"
     ]
    },
    {
     "data": {
      "text/html": [
       "<img src=\"https://thumbnews.nateimg.co.kr/news90///news.nateimg.co.kr/orgImg/fr/2025/04/10/art_682893_1744243474.jpg\"/>"
      ],
      "text/plain": [
       "<IPython.core.display.Image object>"
      ]
     },
     "metadata": {},
     "output_type": "display_data"
    },
    {
     "name": "stdout",
     "output_type": "stream",
     "text": [
      "LG이노텍, 협력사와 상생 협력…동반성장펀드 1430억원 운영\n",
      "============>> 17\n",
      "https://news.nate.com/view/20250410n08441?mid=n0600\n",
      "https://thumbnews.nateimg.co.kr/news90///news.nateimg.co.kr/orgImg/sw/2025/04/10/20250410505340.jpg\n"
     ]
    },
    {
     "data": {
      "text/html": [
       "<img src=\"https://thumbnews.nateimg.co.kr/news90///news.nateimg.co.kr/orgImg/sw/2025/04/10/20250410505340.jpg\"/>"
      ],
      "text/plain": [
       "<IPython.core.display.Image object>"
      ]
     },
     "metadata": {},
     "output_type": "display_data"
    },
    {
     "name": "stdout",
     "output_type": "stream",
     "text": [
      "'레이븐2 길드 챔피언십' 26일 개최…4주간 기념 이벤트까지\n",
      "============>> 18\n",
      "https://news.nate.com/view/20250410n08387?mid=n0600\n",
      "https://thumbnews.nateimg.co.kr/news90///news.nateimg.co.kr/orgImg/fr/2025/04/10/art_682885_1744242258.jpg\n"
     ]
    },
    {
     "data": {
      "text/html": [
       "<img src=\"https://thumbnews.nateimg.co.kr/news90///news.nateimg.co.kr/orgImg/fr/2025/04/10/art_682885_1744242258.jpg\"/>"
      ],
      "text/plain": [
       "<IPython.core.display.Image object>"
      ]
     },
     "metadata": {},
     "output_type": "display_data"
    },
    {
     "name": "stdout",
     "output_type": "stream",
     "text": [
      "삼성전자 \"1분기 가정용 에어컨 판매량 전년比 50% 증가\"\n",
      "============>> 19\n",
      "https://news.nate.com/view/20250410n07044?mid=n0600\n",
      "https://thumbnews.nateimg.co.kr/news90///news.nateimg.co.kr/orgImg/hr/2025/04/10/news-p.v1.20250410.0d1bd078dfd64fffb6ad7fc36a6152d8_P1.jpg\n"
     ]
    },
    {
     "data": {
      "text/html": [
       "<img src=\"https://thumbnews.nateimg.co.kr/news90///news.nateimg.co.kr/orgImg/hr/2025/04/10/news-p.v1.20250410.0d1bd078dfd64fffb6ad7fc36a6152d8_P1.jpg\"/>"
      ],
      "text/plain": [
       "<IPython.core.display.Image object>"
      ]
     },
     "metadata": {},
     "output_type": "display_data"
    },
    {
     "name": "stdout",
     "output_type": "stream",
     "text": [
      "카이스트 '큰형님' 자처한 서정진 \"함께 전 세계 시장을 두들겨봅시다\"\n",
      "============>> 20\n",
      "https://news.nate.com/view/20250410n08360?mid=n0600\n",
      "https://thumbnews.nateimg.co.kr/news90///news.nateimg.co.kr/orgImg/at/2025/04/10/2025041001001003100059301.jpg\n"
     ]
    },
    {
     "data": {
      "text/html": [
       "<img src=\"https://thumbnews.nateimg.co.kr/news90///news.nateimg.co.kr/orgImg/at/2025/04/10/2025041001001003100059301.jpg\"/>"
      ],
      "text/plain": [
       "<IPython.core.display.Image object>"
      ]
     },
     "metadata": {},
     "output_type": "display_data"
    },
    {
     "name": "stdout",
     "output_type": "stream",
     "text": [
      "KT, AI 기술로 통신 데이터 분석…고객 불편 최소화\n"
     ]
    }
   ],
   "source": [
    "import requests\n",
    "from bs4 import BeautifulSoup\n",
    "from urllib.parse import urljoin\n",
    "from IPython.display import Image, display\n",
    "\n",
    "section_dict = {'최신뉴스':'n0100','정치':'n0200','경제':'n0300','사회':'n0400',\\\n",
    "                '세계':'n0500','IT/과학':'n0600'}\n",
    "print(section_dict)\n",
    "\n",
    "def print_news(section_name):    \n",
    "    m_id = section_dict[section_name]\n",
    "\n",
    "    url = f'https://news.nate.com/recent?mid={m_id}'\n",
    "    print(url)\n",
    "\n",
    "    req_header = {\n",
    "        'user-agent': 'Mozilla/5.0 (Windows NT 10.0; Win64; x64) AppleWebKit/537.36 (KHTML, like Gecko) Chrome/104.0.0.0 Safari/537.36'\n",
    "    }\n",
    "\n",
    "    res = requests.get(url, headers=req_header)\n",
    "    print(type(res))\n",
    "    print(res.status_code)\n",
    "\n",
    "    if res.ok:\n",
    "        res.encoding = 'euc-kr'\n",
    "        html = res.text\n",
    "        soup = BeautifulSoup(html, 'html.parser')\n",
    "\n",
    "        print(f'======> {url} {section_name} 뉴스 <======')   \n",
    "\n",
    "        tags = soup.select(\"div.postListType.noListTitle div.mlt01\")\n",
    "        print(len(tags))\n",
    "\n",
    "        for idx,div_tag in enumerate(tags,1): \n",
    "            print(f'============>> {idx}')       \n",
    "            a_tag = div_tag.find('a')\n",
    "            a_join_url = urljoin(url,a_tag['href'])\n",
    "            print(a_join_url)\n",
    "\n",
    "            img_tag = div_tag.select_one('span.ib img')\n",
    "            if img_tag:\n",
    "                photo_url = urljoin(url,img_tag['src'])\n",
    "                print(photo_url)\n",
    "                display(Image(url=photo_url))\n",
    "\n",
    "            h2_tag = div_tag.select_one('span.tb h2.tit')\n",
    "            title = h2_tag.text\n",
    "            print(title)\n",
    "\n",
    "    else:\n",
    "        print(f'에러코드 = {res.status_code}')\n",
    "\n",
    "print_news('IT/과학')"
   ]
  },
  {
   "cell_type": "markdown",
   "id": "f19db55a",
   "metadata": {},
   "source": [
    "2-2. 하나의 네이버 웹툰과 1개의 회차에 대한 Image 다운로드 하기"
   ]
  },
  {
   "cell_type": "code",
   "execution_count": null,
   "id": "f3da4fe1",
   "metadata": {},
   "outputs": [],
   "source": [
    "import requests\n",
    "import os\n",
    "\n",
    "req_header = {\n",
    "    'referer': 'https://comic.naver.com/webtoon/detail?titleId=823195&no=108&week=wed'\n",
    "}\n",
    "\n",
    "img_urls = [\n",
    "    'https://image-comic.pstatic.net/webtoon/823195/108/20250408180001_241c480040c374e4035a04fdd4f0b2c1_IMAG01_1.jpg',\n",
    "    'https://image-comic.pstatic.net/webtoon/823195/108/20250408180001_241c480040c374e4035a04fdd4f0b2c1_IMAG01_2.jpg',\n",
    "    'https://image-comic.pstatic.net/webtoon/823195/108/20250408180001_241c480040c374e4035a04fdd4f0b2c1_IMAG01_3.jpg'\n",
    "]\n",
    "\n",
    "for img_url in img_urls:\n",
    "    # requests 의 get(url, headers) 함수 호출하기 \n",
    "    res = requests.get(img_url, headers=req_header)\n",
    "    if res.ok:\n",
    "        # binary 응답 데이터 가져오기 content라는 프로퍼티 사용\n",
    "        img_data = res.content\n",
    "        # url에서 파일명만 추출하기\n",
    "        file_name = os.path.basename(img_url)\n",
    "        # binday data를 file에 write하기\n",
    "        with open(file_name, 'wb') as file:\n",
    "            print(f'Writhing to {file_name}({len(img_data):,} bytes) ')\n",
    "            file.write(img_data)\n",
    "            \n"
   ]
  },
  {
   "cell_type": "code",
   "execution_count": 78,
   "id": "7a0cf594",
   "metadata": {},
   "outputs": [
    {
     "name": "stdout",
     "output_type": "stream",
     "text": [
      "['https://image-comic.pstatic.net/webtoon/823195/108/20250408180001_241c480040c374e4035a04fdd4f0b2c1_IMAG01_1.jpg', 'https://image-comic.pstatic.net/webtoon/823195/108/20250408180001_241c480040c374e4035a04fdd4f0b2c1_IMAG01_10.jpg']\n",
      "'쌉초의 난', 108, https://image-comic.pstatic.net/webtoon/823195/108/20250408180001_241c480040c374e4035a04fdd4f0b2c1_IMAG01_1.jpg\n",
      "'쌉초의 난', 108, https://image-comic.pstatic.net/webtoon/823195/108/20250408180001_241c480040c374e4035a04fdd4f0b2c1_IMAG01_10.jpg\n",
      "'쌉초의 난', 108, https://image-comic.pstatic.net/webtoon/823195/108/20250408180001_241c480040c374e4035a04fdd4f0b2c1_IMAG01_11.jpg\n",
      "'쌉초의 난', 108, https://image-comic.pstatic.net/webtoon/823195/108/20250408180001_241c480040c374e4035a04fdd4f0b2c1_IMAG01_12.jpg\n",
      "'쌉초의 난', 108, https://image-comic.pstatic.net/webtoon/823195/108/20250408180001_241c480040c374e4035a04fdd4f0b2c1_IMAG01_13.jpg\n",
      "'쌉초의 난', 108, https://image-comic.pstatic.net/webtoon/823195/108/20250408180001_241c480040c374e4035a04fdd4f0b2c1_IMAG01_14.jpg\n",
      "'쌉초의 난', 108, https://image-comic.pstatic.net/webtoon/823195/108/20250408180001_241c480040c374e4035a04fdd4f0b2c1_IMAG01_15.jpg\n",
      "'쌉초의 난', 108, https://image-comic.pstatic.net/webtoon/823195/108/20250408180001_241c480040c374e4035a04fdd4f0b2c1_IMAG01_16.jpg\n",
      "'쌉초의 난', 108, https://image-comic.pstatic.net/webtoon/823195/108/20250408180001_241c480040c374e4035a04fdd4f0b2c1_IMAG01_17.jpg\n",
      "'쌉초의 난', 108, https://image-comic.pstatic.net/webtoon/823195/108/20250408180001_241c480040c374e4035a04fdd4f0b2c1_IMAG01_18.jpg\n",
      "'쌉초의 난', 108, https://image-comic.pstatic.net/webtoon/823195/108/20250408180001_241c480040c374e4035a04fdd4f0b2c1_IMAG01_19.jpg\n"
     ]
    }
   ],
   "source": [
    "import requests\n",
    "from bs4 import BeautifulSoup\n",
    "import os\n",
    "\n",
    "url = 'https://comic.naver.com/webtoon/detail?titleId=823195&no=108&week=wed'\n",
    "req_header = {\n",
    "    'referer': url\n",
    "}\n",
    "res = requests.get(url)\n",
    "\n",
    "title = '쌉초의 난'\n",
    "if res.ok:\n",
    "    # jpg 파일의 절대경로 url를 찾기\n",
    "    soup = BeautifulSoup(res.text, 'html.parser')\n",
    "    \n",
    "    img_tags = soup.select(\"img[src*='IMAG01_1']\")\n",
    "    # img src 를 저장할 list 선언\n",
    "    img_url_list = list() # ['aa.jpg','aa1.jpg']\n",
    "    for img_tag in img_tags:\n",
    "        img_src = img_tag['src']\n",
    "        img_url_list.append(img_src)\n",
    "    \n",
    "    #img 디렉토리가 없으면 생성하기   \n",
    "    imgdir_name = 'img'\n",
    "    if not os.path.isdir(imgdir_name):\n",
    "        os.mkdir(imgdir_name)\n",
    "        \n",
    "    #os.path.join(dir,file) 함수 사용하여 디렉토리명과 파일명 합치기\n",
    "    for img_url in img_url_list:\n",
    "        res = requests.get(img_url, headers=req_header)\n",
    "        if res.ok:        \n",
    "            # binary data 가져오기\n",
    "            img_data = res.content\n",
    "            # img/xxx.jpg 디렉토리명과 파일명을 join\n",
    "            dir_name = os.path.join(imgdir_name, os.path.basename(img_url))\n",
    "            # binday data를 file에 write하기\n",
    "            with open(dir_name,'wb') as file:\n",
    "                print(f\"'{title}', 108, {img_url}\")\n",
    "                file.write(img_data)\n",
    "        else:\n",
    "            print(f'Error Code = {res.status_code}')      \n",
    "            \n",
    "else:\n",
    "    print(f'Error Code = {res.status_code}')"
   ]
  }
 ],
 "metadata": {
  "kernelspec": {
   "display_name": "base",
   "language": "python",
   "name": "python3"
  },
  "language_info": {
   "codemirror_mode": {
    "name": "ipython",
    "version": 3
   },
   "file_extension": ".py",
   "mimetype": "text/x-python",
   "name": "python",
   "nbconvert_exporter": "python",
   "pygments_lexer": "ipython3",
   "version": "3.12.7"
  }
 },
 "nbformat": 4,
 "nbformat_minor": 5
}
