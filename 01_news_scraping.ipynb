{
 "cells": [
  {
   "cell_type": "code",
   "execution_count": 17,
   "id": "22ba5ed2",
   "metadata": {},
   "outputs": [
    {
     "name": "stdout",
     "output_type": "stream",
     "text": [
      "https://news.daum.net/economy\n",
      "<class 'requests.models.Response'>\n",
      "200\n",
      "<class 'bs4.element.ResultSet'> 9\n",
      "https://v.daum.net/v/20250409100338422\n",
      "기름 넣을 때마다 내는 세금, 적절한 곳에 쓰고 있나요? [질문+]\n",
      "https://v.daum.net/v/20250409100040256\n",
      "'원금지급·초과수익' 첫 IMA 연내지정…한국판 골드만삭스 시동\n",
      "https://v.daum.net/v/20250409100011190\n",
      "'원금지급' IMA 제도, 8년 만에 구체화…하반기에 8조 종투사 지정\n",
      "https://v.daum.net/v/20250409095612972\n",
      "회사는 주주만의 것? 상법 개정이 품은 위험\n",
      "https://v.daum.net/v/20250409095604965\n",
      "발의자가 설명하는 ‘상법 왜 바꿨나’\n",
      "https://v.daum.net/v/20250409095558958\n",
      "K밸류업 외치는 사이, 무너지는 한국 제조업\n",
      "https://v.daum.net/v/20250409095110733\n",
      "[친절한 경제] 초고령 사회 진입…'정년 연장'보다 필요한 근로 형태는?\n",
      "https://v.daum.net/v/20250409094730569\n",
      "3월 취업자 19.3만 늘었지만…청년·건설·제조업 '고용한파' 지속(종합)\n",
      "https://v.daum.net/v/20250409091935326\n",
      "‘회복’이라는 착시.. “청년은 떠났고, 일터는 비어 있다”\n"
     ]
    }
   ],
   "source": [
    "import requests\n",
    "from bs4 import BeautifulSoup\n",
    "\n",
    "# 다음 경제 뉴스 URL\n",
    "url = 'https://news.daum.net/economy'\n",
    "\n",
    "print(url)\n",
    "\n",
    "# 요청 헤더\n",
    "req_header = {\n",
    "    'user-agent': 'Mozilla/5.0 (Windows NT 10.0; Win64; x64) AppleWebKit/537.36 (KHTML, like Gecko) Chrome/104.0.0.0 Safari/537.36'\n",
    "}\n",
    "\n",
    "res = requests.get(url, headers=req_header)\n",
    "print(type(res))\n",
    "print(res.status_code)\n",
    "\n",
    "# 정상 응답 여부 확인\n",
    "if res.ok:\n",
    "    res.encoding = 'utf-8' \n",
    "    html = res.text\n",
    "    soup = BeautifulSoup(html, 'html.parser')\n",
    "    \n",
    "    # 기사 제목과 링크 추출\n",
    "    # [<li></li>,<li></li>]\n",
    "    li_tag_list = soup.select('ul.list_newsheadline2 li')\n",
    "\n",
    "    print(type(li_tag_list), len(li_tag_list))\n",
    "\n",
    "    for li_tag in li_tag_list:        \n",
    "        a_tag = li_tag.find('a')\n",
    "        print(a_tag['href'])\n",
    "        \n",
    "        # select() => ResultSet, select_one() => Tag\n",
    "        strong_tags = li_tag.select('div.cont_thumb strong.tit_txt')\n",
    "        if strong_tags:\n",
    "            strong_tag = strong_tags[0]\n",
    "        #strong_tag = li_tag.select_one('div.cont_thumb strong.tit_txt')\n",
    "        title = strong_tag.text.strip()\n",
    "        print(title)\n",
    "\n",
    "\n",
    "else:\n",
    "    print(f'에러코드 = {res.status_code}')"
   ]
  },
  {
   "cell_type": "code",
   "execution_count": null,
   "id": "2d8b622d",
   "metadata": {},
   "outputs": [
    {
     "data": {
      "text/plain": [
       "{'기후/환경': 'climate',\n",
       " '사회': 'society',\n",
       " '경제': 'economy',\n",
       " '정치': 'politics',\n",
       " '국제': 'world',\n",
       " '문화': 'culture',\n",
       " '생활': 'life',\n",
       " 'IT/과학': 'tech',\n",
       " '인물': 'people'}"
      ]
     },
     "execution_count": 12,
     "metadata": {},
     "output_type": "execute_result"
    }
   ],
   "source": [
    "section_dict = {'기후/환경':'climate','사회':'society','경제':'economy','정치':'politics',\\\n",
    "                '국제':'world','문화':'culture','생활':'life','IT/과학':'tech','인물':'people'}\n",
    "section_dict"
   ]
  },
  {
   "cell_type": "code",
   "execution_count": 16,
   "id": "e8192c23",
   "metadata": {},
   "outputs": [],
   "source": [
    "import requests\n",
    "from bs4 import BeautifulSoup\n",
    "\n",
    "def print_news(section_name):    \n",
    "    #section = section_dict[section_name]\n",
    "    section = section_dict.get(section_name)\n",
    "    if section is None:\n",
    "        print('요청하신 Key가 없습니다.')\n",
    "    else:    \n",
    "        # 요청 Parameter\n",
    "        req_param = {\n",
    "            'section': section\n",
    "        }\n",
    "        url = 'https://news.daum.net/{section}'.format(**req_param)\n",
    "        \n",
    "        print(f'======> {url} {section_name} 뉴스 <======')\n",
    "        \n",
    "        # 요청 헤더 설정 : 브라우저 정보\n",
    "        req_header = {\n",
    "            'user-agent': 'Mozilla/5.0 (Windows NT 10.0; Win64; x64) AppleWebKit/537.36 (KHTML, like Gecko) Chrome/104.0.0.0 Safari/537.36'\n",
    "        }\n",
    "\n",
    "        res = requests.get(url, headers=req_header)   \n",
    "\n",
    "        if res.ok:\n",
    "            res.encoding = 'utf-8' \n",
    "            html = res.text\n",
    "            soup = BeautifulSoup(html, 'html.parser')\n",
    "            \n",
    "            # 기사 제목과 링크 추출\n",
    "            li_tag_list = soup.select('ul.list_newsheadline2 li')\n",
    "\n",
    "            #print(type(li_tag_list), len(li_tag_list))\n",
    "\n",
    "            for li_tag in li_tag_list:        \n",
    "                a_tag = li_tag.find('a')\n",
    "                print(a_tag['href'])\n",
    "                \n",
    "                strong_tag = li_tag.select_one('div.cont_thumb strong.tit_txt')\n",
    "                title = strong_tag.text.strip()\n",
    "                print(title)\n",
    "\n",
    "        else:\n",
    "            print(f'에러코드 = {res.status_code}')"
   ]
  },
  {
   "cell_type": "code",
   "execution_count": null,
   "id": "bfd12c6b",
   "metadata": {},
   "outputs": [
    {
     "name": "stdout",
     "output_type": "stream",
     "text": [
      "======> https://news.daum.net/economy 경제 뉴스 <======\n",
      "https://v.daum.net/v/20250409095612972\n",
      "회사는 주주만의 것? 상법 개정이 품은 위험\n",
      "https://v.daum.net/v/20250409095604965\n",
      "발의자가 설명하는 ‘상법 왜 바꿨나’\n",
      "https://v.daum.net/v/20250409095558958\n",
      "K밸류업 외치는 사이, 무너지는 한국 제조업\n",
      "https://v.daum.net/v/20250409095110733\n",
      "[친절한 경제] 초고령 사회 진입…'정년 연장'보다 필요한 근로 형태는?\n",
      "https://v.daum.net/v/20250409094730569\n",
      "3월 취업자 19.3만 늘었지만…청년·건설·제조업 '고용한파' 지속(종합)\n",
      "https://v.daum.net/v/20250409093301936\n",
      "투심 끊긴 CBD 오피스…\"이 값엔 못 팔아\" 잇단 매각 철회도\n",
      "https://v.daum.net/v/20250409091935326\n",
      "‘회복’이라는 착시.. “청년은 떠났고, 일터는 비어 있다”\n",
      "https://v.daum.net/v/20250409091646199\n",
      "[뉴스UP] 미국, 오늘부터 25% 상호관세...뭐가 어떻게 바뀌나?\n",
      "https://v.daum.net/v/20250409081220033\n",
      "[美 관세대응]수출바우처 1000억·긴급경영자금 2500억…남미로 수출다변화\n"
     ]
    }
   ],
   "source": [
    "print_news('경제2')"
   ]
  }
 ],
 "metadata": {
  "kernelspec": {
   "display_name": "base",
   "language": "python",
   "name": "python3"
  },
  "language_info": {
   "codemirror_mode": {
    "name": "ipython",
    "version": 3
   },
   "file_extension": ".py",
   "mimetype": "text/x-python",
   "name": "python",
   "nbconvert_exporter": "python",
   "pygments_lexer": "ipython3",
   "version": "3.12.7"
  }
 },
 "nbformat": 4,
 "nbformat_minor": 5
}
