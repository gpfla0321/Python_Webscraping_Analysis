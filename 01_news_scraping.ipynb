{
 "cells": [
  {
   "cell_type": "code",
   "execution_count": null,
   "id": "2d8b622d",
   "metadata": {},
   "outputs": [],
   "source": [
    "# IT/과학 뉴스 \n",
    "req_param = {\n",
    "    'sid': economy\n",
    "}\n",
    "# \n",
    "url = 'https://news.daum.net/economy{sid}'.format(**req_param)\n",
    "print(url)\n",
    "\n",
    "# 요청 헤더 설정 : 브라우저 정보(사람처럼 보이게 하려고 설정하는 것임임)\n",
    "req_header = {\n",
    "    'user-agent': 'Mozilla/5.0 (Windows NT 10.0; Win64; x64) AppleWebKit/537.36 (KHTML, like Gecko) Chrome/135.0.0.0 Safari/537.36'\n",
    "}\n",
    "\n",
    "# requests 의 get() 함수 호출하기 \n",
    "res = requests.get(url, headers=req_header)\n",
    "print(res)\n",
    "print(type(res))\n",
    "print(res.status_code, res.ok)\n",
    "\n",
    "# 응답(response)이 OK 이면\n",
    "if res.ok:\n",
    "    # 응답 (response)에서 text 추출 - surce 보기\n",
    "    html = res.text\n",
    "    # BeautifulSoup 객체 생성  \n",
    "    soup = BeautifulSoup(html, 'html.parser')\n",
    "    print(soup)\n",
    "    # CSS 선택자\n",
    "    # print(soup.select(\"div.sa_text a[href*='mnews/article']\"))\n",
    "\n",
    "    # <a> 태그 리스트 순회하기    \n",
    "else:    \n",
    "    # 응답(response)이 Error 이면 status code 출력    \n",
    "    print(f'에러 코드 = {res.status_code}')"
   ]
  }
 ],
 "metadata": {
  "language_info": {
   "name": "python"
  }
 },
 "nbformat": 4,
 "nbformat_minor": 5
}
