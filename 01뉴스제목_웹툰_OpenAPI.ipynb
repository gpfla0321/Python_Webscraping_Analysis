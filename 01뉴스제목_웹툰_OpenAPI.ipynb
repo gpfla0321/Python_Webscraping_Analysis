{
 "cells": [
  {
   "cell_type": "markdown",
   "id": "eb0bfa44",
   "metadata": {},
   "source": [
    "## 1. 뉴스제목 가져오기\n",
    "* user-agent 요청헤더를 반드시 설정해야 한다."
   ]
  },
  {
   "cell_type": "code",
   "execution_count": 1,
   "id": "f0d27781",
   "metadata": {},
   "outputs": [
    {
     "name": "stdout",
     "output_type": "stream",
     "text": [
      "Name: requests\n",
      "Version: 2.32.3\n",
      "Summary: Python HTTP for Humans.\n",
      "Home-page: https://requests.readthedocs.io\n",
      "Author: Kenneth Reitz\n",
      "Author-email: me@kennethreitz.org\n",
      "License: Apache-2.0\n",
      "Location: d:\\Users\\user\\anaconda3\\Lib\\site-packages\n",
      "Requires: certifi, charset-normalizer, idna, urllib3\n",
      "Required-by: anaconda-catalogs, anaconda-client, anaconda-cloud-auth, anaconda-project, conda, conda-build, conda-repo-cli, conda_package_streaming, cookiecutter, datashader, jupyterlab_server, panel, requests-file, requests-toolbelt, Sphinx, streamlit, tldextract\n",
      "Note: you may need to restart the kernel to use updated packages.\n"
     ]
    }
   ],
   "source": [
    "# requests 라이브러리 설치여부 확인\n",
    "%pip show requests"
   ]
  },
  {
   "cell_type": "code",
   "execution_count": 2,
   "id": "f7798ea8",
   "metadata": {},
   "outputs": [
    {
     "name": "stdout",
     "output_type": "stream",
     "text": [
      "Name: beautifulsoup4\n",
      "Version: 4.12.3\n",
      "Summary: Screen-scraping library\n",
      "Home-page: https://www.crummy.com/software/BeautifulSoup/bs4/\n",
      "Author: \n",
      "Author-email: Leonard Richardson <leonardr@segfault.org>\n",
      "License: MIT License\n",
      "Location: d:\\Users\\user\\anaconda3\\Lib\\site-packages\n",
      "Requires: soupsieve\n",
      "Required-by: conda-build, nbconvert\n",
      "Note: you may need to restart the kernel to use updated packages.\n"
     ]
    }
   ],
   "source": [
    "# beautifulsoup4 라이브러리 설치여부 확인\n",
    "%pip show beautifulsoup4"
   ]
  },
  {
   "cell_type": "code",
   "execution_count": 4,
   "id": "bf80a429",
   "metadata": {},
   "outputs": [],
   "source": [
    "# reqeusts, bs4 import\n",
    "import requests\n",
    "import bs4\n",
    "# BeautifulSoup 클래스 import\n",
    "from bs4 import BeautifulSoup"
   ]
  },
  {
   "cell_type": "code",
   "execution_count": 5,
   "id": "9788d6ac",
   "metadata": {},
   "outputs": [
    {
     "name": "stdout",
     "output_type": "stream",
     "text": [
      "request 버전 2.32.3\n",
      "beautifulsoup4 버전 4.12.3\n"
     ]
    }
   ],
   "source": [
    "# requests, bs4 버전 확인하기\n",
    "print(f'request 버전 {requests.__version__}')\n",
    "print(f'beautifulsoup4 버전 {bs4.__version__}')"
   ]
  },
  {
   "cell_type": "markdown",
   "id": "ccb91def-cde3-4aeb-b0e5-2e7233500333",
   "metadata": {},
   "source": [
    "### 1. 뉴스 제목 추출하기"
   ]
  },
  {
   "cell_type": "code",
   "execution_count": null,
   "id": "94c12fd6",
   "metadata": {},
   "outputs": [
    {
     "name": "stdout",
     "output_type": "stream",
     "text": [
      "https://news.naver.com/section/105\n",
      "<Response [200]>\n",
      "<class 'requests.models.Response'>\n",
      "200 True\n",
      "86\n",
      "<class 'bs4.element.ResultSet'>\n",
      "https://n.news.naver.com/mnews/article/032/0003362006 주목받는 AI 스타트업 뤼튼 “생성형 넘어 생활형 AI···내셔널 챔피언 될 것”\n",
      "https://n.news.naver.com/mnews/article/comment/032/0003362006 \n",
      "https://n.news.naver.com/mnews/article/001/0015317061 스팸문자 사전 차단 '엑스레이 서비스' 9일 시범 도입\n",
      "https://n.news.naver.com/mnews/article/comment/001/0015317061 \n",
      "https://n.news.naver.com/mnews/article/030/0003301485 델, AI 레디 데이터센터 위한 인프라 솔루션 신제품 공개\n",
      "https://n.news.naver.com/mnews/article/comment/030/0003301485 \n",
      "https://n.news.naver.com/mnews/article/031/0000922669 SK C&C \"AI로 재해사고 줄이고 환경오염 최소화\"\n",
      "https://n.news.naver.com/mnews/article/comment/031/0000922669 \n",
      "https://n.news.naver.com/mnews/article/005/0001768358 KT, AI 보이스피싱 탐지서비스 성과\n",
      "https://n.news.naver.com/mnews/article/comment/005/0001768358 \n",
      "https://n.news.naver.com/mnews/article/015/0005116602 갤럭시S25 '깜짝 신기능'…화면 비추면서 AI와 실시간 대화\n",
      "https://n.news.naver.com/mnews/article/comment/015/0005116602 \n",
      "https://n.news.naver.com/mnews/article/031/0000922915 300만건 소재 분야 공공데이터 개방→AI 기반 소재연구 속도 붙는다\n",
      "https://n.news.naver.com/mnews/article/comment/031/0000922915 \n",
      "https://n.news.naver.com/mnews/article/031/0000922967 마침내 ISS 도착 한국계 미국인 조니 김 \"여기는 우주\" [지금은 우주]\n",
      "https://n.news.naver.com/mnews/article/comment/031/0000922967 \n",
      "https://n.news.naver.com/mnews/article/025/0003432797 \"아빠, 20살때 몇 ㎏였어?\"…심장마비 위험 5분만에 아는 법\n",
      "https://n.news.naver.com/mnews/article/comment/025/0003432797 \n",
      "https://n.news.naver.com/mnews/article/016/0002454521 “드디어 나온다” ‘65만원’ 짜리 게임기에 아재들도 ‘난리’…뭐길래\n",
      "https://n.news.naver.com/mnews/article/comment/016/0002454521 \n",
      "https://n.news.naver.com/mnews/article/001/0015318359 존슨 전 영국 총리, 미국 여행 중 '타조 공격' 봉변\n",
      "https://n.news.naver.com/mnews/article/comment/001/0015318359 \n",
      "https://n.news.naver.com/mnews/article/003/0013171755 아이브·아이유 소속사 주인 바뀌나…카카오, 카카오엔터 매각 추진\n",
      "https://n.news.naver.com/mnews/article/comment/003/0013171755 \n",
      "https://n.news.naver.com/mnews/article/029/0002946813 `RF 온라인 넥스트` 흥행에 출발 좋은 넷마블...`왕좌의 게임`으로 `굳히기`\n",
      "https://n.news.naver.com/mnews/article/comment/029/0002946813 \n",
      "https://n.news.naver.com/mnews/article/008/0005177712 카카오, '아픈 손가락' 카카오엔터 매각 추진\n",
      "https://n.news.naver.com/mnews/article/comment/008/0005177712 \n",
      "https://n.news.naver.com/mnews/article/029/0002946804 의정갈등에 `새우등 처지` 제약업계, 尹 파면에 \"정상화 기대\"\n",
      "https://n.news.naver.com/mnews/article/comment/029/0002946804 \n",
      "https://n.news.naver.com/mnews/article/016/0002454498 “이건 너무 심했다” 발칵 뒤집힌 애플…쏟아지는 뭇매에 결국\n",
      "https://n.news.naver.com/mnews/article/comment/016/0002454498 \n",
      "https://n.news.naver.com/mnews/article/030/0003301461 SK그룹, SK실트론 매각 추진\n",
      "https://n.news.naver.com/mnews/article/comment/030/0003301461 \n",
      "https://n.news.naver.com/mnews/article/015/0005116736 50만원짜리가 수억원으로 '변신'…한국도 뛰어들었다 [긱스]\n",
      "https://n.news.naver.com/mnews/article/comment/015/0005116736 \n",
      "https://n.news.naver.com/mnews/article/015/0005116734 \"수백 대 GPU 서버 효율적 관리…최적의 AI 연구개발 환경 만든다\" [긱스]\n",
      "https://n.news.naver.com/mnews/article/comment/015/0005116734 \n",
      "https://n.news.naver.com/mnews/article/015/0005116731 \"돈도 못 벌면서\" 구박 받던 당근…드디어 돈 벌었다 [긱스]\n",
      "https://n.news.naver.com/mnews/article/comment/015/0005116731 \n",
      "https://n.news.naver.com/mnews/article/029/0002946789 AI가 바꾼 검색 풍경… 이젠 키워드 말고 사진 `찰칵`\n",
      "https://n.news.naver.com/mnews/article/comment/029/0002946789 \n",
      "https://n.news.naver.com/mnews/article/031/0000922940 \"애플, 美 관세 피해 중국 아닌 인도서 아이폰 생산 늘린다\"\n",
      "https://n.news.naver.com/mnews/article/comment/031/0000922940 \n",
      "https://n.news.naver.com/mnews/article/011/0004471741 기술력이 자산이 되지 못하는 나라 [기자의눈]\n",
      "https://n.news.naver.com/mnews/article/comment/011/0004471741 \n",
      "https://n.news.naver.com/mnews/article/014/0005333061 ‘갤S25’ MX사업부, 호실적 이끌어... 악재산적 2분기 ‘엣지’ 판매량 관건[삼성전자 '트럼프 변수' 긴장]\n",
      "https://n.news.naver.com/mnews/article/comment/014/0005333061 \n",
      "https://n.news.naver.com/mnews/article/031/0000922930 찜솥 더위·높은 습도 견디는 고효율 태양전지 나온다 [지금은 과학]\n",
      "https://n.news.naver.com/mnews/article/comment/031/0000922930 \n",
      "https://n.news.naver.com/mnews/article/020/0003626869 GM “SDV 시대 준비 박차·슈퍼크루즈 20개 모델 이상 적용 완료”\n",
      "https://n.news.naver.com/mnews/article/comment/020/0003626869 \n",
      "https://n.news.naver.com/mnews/article/366/0001067701 2분짜리 영상도 뚝딱… 불붙은 아마존·오픈AI·구글 영상 AI 경쟁\n",
      "https://n.news.naver.com/mnews/article/comment/366/0001067701 \n",
      "https://n.news.naver.com/mnews/article/092/0002369863 K푸드에 닥친 '관세 쇼크'…삼양·LG생건 등 더 걱정\n",
      "https://n.news.naver.com/mnews/article/comment/092/0002369863 \n",
      "https://n.news.naver.com/mnews/article/009/0005472991 사흘간 비행기 5대 띄워 … 애플, 중국·인도産 아이폰 긴급수송\n",
      "https://n.news.naver.com/mnews/article/comment/009/0005472991 \n",
      "https://n.news.naver.com/mnews/article/584/0000031792 DNA까지 침투…나노플라스틱 생성 원리 최초 규명\n",
      "https://n.news.naver.com/mnews/article/comment/584/0000031792 \n",
      "https://n.news.naver.com/mnews/article/009/0005472950 옷장 비췄더니 AI가 \"이 옷 입으세요\"\n",
      "https://n.news.naver.com/mnews/article/comment/009/0005472950 \n",
      "https://n.news.naver.com/mnews/article/081/0003531813 美 스탠퍼드대 ‘AI 보고서’ 선정된 유일한 한국 모델은?\n",
      "https://n.news.naver.com/mnews/article/comment/081/0003531813 \n",
      "https://n.news.naver.com/mnews/article/366/0001067696 의협, “내년 의대 정원 3058명으로”…정부·국회에 대화 요구도\n",
      "https://n.news.naver.com/mnews/article/comment/366/0001067696 \n",
      "https://n.news.naver.com/mnews/article/092/0002369861 BBQ, 법정관리 '위메프' 품을까...\"인수 의향서 제출\"\n",
      "https://n.news.naver.com/mnews/article/comment/092/0002369861 \n",
      "https://n.news.naver.com/mnews/article/138/0002194290 키움증권 ‘전산 먹통’ 논란…  결국 다우기술로 불똥튀나\n",
      "https://n.news.naver.com/mnews/article/comment/138/0002194290 \n",
      "https://n.news.naver.com/mnews/article/009/0005472938 삼성이 찜한 유럽 바이오벤처, 日 다이호가 인수\n",
      "https://n.news.naver.com/mnews/article/comment/009/0005472938 \n",
      "https://n.news.naver.com/mnews/article/009/0005472935 \"기존 약물 새 쓰임새, AI로 찾아냅니다\"\n",
      "https://n.news.naver.com/mnews/article/comment/009/0005472935 \n",
      "https://n.news.naver.com/mnews/article/029/0002946759 `한국계 우주비행사` 조니 김, 러 우주선 타고 국제우주정거장 `발사`\n",
      "https://n.news.naver.com/mnews/article/comment/029/0002946759 \n",
      "https://n.news.naver.com/mnews/article/138/0002194287 [DD퇴근길] '갤럭시S25' 통했나?…삼성전자, 1Q 어닝서프라이즈\n",
      "https://n.news.naver.com/mnews/article/comment/138/0002194287 \n",
      "https://n.news.naver.com/mnews/article/138/0002194286 악성문자 발송단계서 원천차단…'엑스레이' 서비스, 9일부터 시범 운영\n",
      "https://n.news.naver.com/mnews/article/comment/138/0002194286 \n",
      "https://n.news.naver.com/mnews/article/003/0013171527 아이폰 미리 사야할까…관세 쇼크에 美에선 일부 사재기 현상\n",
      "https://n.news.naver.com/mnews/article/comment/003/0013171527 \n",
      "https://n.news.naver.com/mnews/article/092/0002369859 순이익 3분의 1인데…MBK, '오스템임플란트' 고배당 논란\n",
      "https://n.news.naver.com/mnews/article/comment/092/0002369859 \n",
      "https://n.news.naver.com/mnews/article/417/0001069560 소상공인과 IT공룡 사이… 장미 대선 앞두고 '온플법' 재점화될까\n",
      "https://n.news.naver.com/mnews/article/comment/417/0001069560 \n"
     ]
    }
   ],
   "source": [
    "# IT/과학 뉴스 \n",
    "req_param = {\n",
    "    'sid': 105\n",
    "}\n",
    "\n",
    "url = 'https://news.naver.com/section/{sid}'.format(**req_param)\n",
    "print(url)\n",
    "\n",
    "# 요청 헤더 설정 : 브라우저 정보(사람처럼 보이게 하려고 설정하는 것임임)\n",
    "req_header = {\n",
    "    'user-agent': 'Mozilla/5.0 (Windows NT 10.0; Win64; x64) AppleWebKit/537.36 (KHTML, like Gecko) Chrome/135.0.0.0 Safari/537.36'\n",
    "}\n",
    "\n",
    "# requests 의 get() 함수 호출하기 \n",
    "res = requests.get(url, headers=req_header)\n",
    "print(res)\n",
    "print(type(res))\n",
    "print(res.status_code, res.ok)\n",
    "\n",
    "# 응답(response)이 OK 이면\n",
    "if res.ok:\n",
    "    # 응답 (response)에서 text 추출 - surce 보기\n",
    "    html = res.text\n",
    "    # BeautifulSoup 객체 생성  \n",
    "    soup = BeautifulSoup(html, 'html.parser')\n",
    "    #print(soup)\n",
    "    # CSS 선택자\n",
    "    # <div class='sa_text'><a href=''></a></div>에 mnews/article라는 말이 들어간 것을 찾아라\n",
    "    print(len(soup.select(\"div.box_tit a[href*='mnews/article']\")))\n",
    "    a_tag_list = soup.select(\"div.box_tit a[href*='mnews/article']\")\n",
    "    print(type(a_tag_list)) # [<a></a>] ResultSet 객체, [<a></a>] : Tag객체\n",
    "    \n",
    "    for a_tag in a_tag_list:\n",
    "        # print(type(a_tag))\n",
    "        title = a_tag.text.strip()\n",
    "        # href 속성의 값 가져오기\n",
    "        link = a_tag['href']\n",
    "        print(link, title)\n",
    "\n",
    "    # <a> 태그 리스트 순회하기    \n",
    "else:    \n",
    "    # 응답(response)이 Error 이면 status code 출력    \n",
    "    print(f'에러 코드 = {res.status_code}')"
   ]
  },
  {
   "cell_type": "markdown",
   "id": "45640860-a449-4285-90d7-5f300292b461",
   "metadata": {},
   "source": [
    "### 1.1 뉴스제목 추출하는 함수 선언하기"
   ]
  },
  {
   "cell_type": "code",
   "execution_count": null,
   "id": "9f2e4ef8",
   "metadata": {},
   "outputs": [
    {
     "name": "stdout",
     "output_type": "stream",
     "text": [
      "=====>https://news.naver.com/section/105 IT/과학 뉴스 <=====\n",
      "<Response [200]>\n",
      "<class 'requests.models.Response'>\n",
      "200 True\n",
      "84\n",
      "<class 'bs4.element.ResultSet'>\n",
      "https://n.news.naver.com/mnews/article/366/0001067543 AI로 재해사고 줄인다…SK C&C 제조특화 SHE 체계 구축\n",
      "https://n.news.naver.com/mnews/article/comment/366/0001067543 \n",
      "https://n.news.naver.com/mnews/article/011/0004471511 스팸문자 발송 전에 차단한다…‘엑스레이’ 서비스 개시\n",
      "https://n.news.naver.com/mnews/article/comment/011/0004471511 \n",
      "https://n.news.naver.com/mnews/article/001/0015317380 화학·금속·세라믹·섬유 등 공공데이터 300만건, 민간에 개방\n",
      "https://n.news.naver.com/mnews/article/comment/001/0015317380 \n",
      "https://n.news.naver.com/mnews/article/009/0005472950 옷장 비췄더니 AI가 \"이 옷 입으세요\"\n",
      "https://n.news.naver.com/mnews/article/comment/009/0005472950 \n",
      "https://n.news.naver.com/mnews/article/029/0002946778 델테크놀로지스, `AI 팩토리`로 기업 맞춤형 AX 선도[POWER COMPANY]\n",
      "https://n.news.naver.com/mnews/article/comment/029/0002946778 \n",
      "https://n.news.naver.com/mnews/article/030/0003301273 뤼튼, 전국민 1인 1AI 시대 연다…무료 넘어 소득까지 창출\n",
      "https://n.news.naver.com/mnews/article/comment/030/0003301273 \n",
      "https://n.news.naver.com/mnews/article/031/0000922983 마이크론 \"9일부터 메모리 모듈 관세 할증 부과\"…삼성·하이닉스는?\n",
      "https://n.news.naver.com/mnews/article/comment/031/0000922983 \n",
      "https://n.news.naver.com/mnews/article/031/0000922967 마침내 ISS 도착 한국계 미국인 조니 김 \"여기는 우주\" [지금은 우주]\n",
      "https://n.news.naver.com/mnews/article/comment/031/0000922967 \n",
      "https://n.news.naver.com/mnews/article/025/0003432797 \"아빠, 20살때 몇 ㎏였어?\"…심장마비 위험 5분만에 아는 법\n",
      "https://n.news.naver.com/mnews/article/comment/025/0003432797 \n",
      "https://n.news.naver.com/mnews/article/016/0002454521 “드디어 나온다” ‘65만원’ 짜리 게임기에 아재들도 ‘난리’…뭐길래\n",
      "https://n.news.naver.com/mnews/article/comment/016/0002454521 \n",
      "https://n.news.naver.com/mnews/article/001/0015318359 존슨 전 영국 총리, 미국 여행 중 '타조 공격' 봉변\n",
      "https://n.news.naver.com/mnews/article/comment/001/0015318359 \n",
      "https://n.news.naver.com/mnews/article/003/0013171755 아이브·아이유 소속사 주인 바뀌나…카카오, 카카오엔터 매각 추진\n",
      "https://n.news.naver.com/mnews/article/comment/003/0013171755 \n",
      "https://n.news.naver.com/mnews/article/029/0002946813 `RF 온라인 넥스트` 흥행에 출발 좋은 넷마블...`왕좌의 게임`으로 `굳히기`\n",
      "https://n.news.naver.com/mnews/article/comment/029/0002946813 \n",
      "https://n.news.naver.com/mnews/article/008/0005177712 카카오, '아픈 손가락' 카카오엔터 매각 추진\n",
      "https://n.news.naver.com/mnews/article/comment/008/0005177712 \n",
      "https://n.news.naver.com/mnews/article/029/0002946804 의정갈등에 `새우등 처지` 제약업계, 尹 파면에 \"정상화 기대\"\n",
      "https://n.news.naver.com/mnews/article/comment/029/0002946804 \n",
      "https://n.news.naver.com/mnews/article/016/0002454498 “이건 너무 심했다” 발칵 뒤집힌 애플…쏟아지는 뭇매에 결국\n",
      "https://n.news.naver.com/mnews/article/comment/016/0002454498 \n",
      "https://n.news.naver.com/mnews/article/030/0003301461 SK그룹, SK실트론 매각 추진\n",
      "https://n.news.naver.com/mnews/article/comment/030/0003301461 \n",
      "https://n.news.naver.com/mnews/article/015/0005116736 50만원짜리가 수억원으로 '변신'…한국도 뛰어들었다 [긱스]\n",
      "https://n.news.naver.com/mnews/article/comment/015/0005116736 \n",
      "https://n.news.naver.com/mnews/article/015/0005116734 \"수백 대 GPU 서버 효율적 관리…최적의 AI 연구개발 환경 만든다\" [긱스]\n",
      "https://n.news.naver.com/mnews/article/comment/015/0005116734 \n",
      "https://n.news.naver.com/mnews/article/015/0005116731 \"돈도 못 벌면서\" 구박 받던 당근…드디어 돈 벌었다 [긱스]\n",
      "https://n.news.naver.com/mnews/article/comment/015/0005116731 \n",
      "https://n.news.naver.com/mnews/article/029/0002946789 AI가 바꾼 검색 풍경… 이젠 키워드 말고 사진 `찰칵`\n",
      "https://n.news.naver.com/mnews/article/comment/029/0002946789 \n",
      "https://n.news.naver.com/mnews/article/031/0000922940 \"애플, 美 관세 피해 중국 아닌 인도서 아이폰 생산 늘린다\"\n",
      "https://n.news.naver.com/mnews/article/comment/031/0000922940 \n",
      "https://n.news.naver.com/mnews/article/011/0004471741 기술력이 자산이 되지 못하는 나라 [기자의눈]\n",
      "https://n.news.naver.com/mnews/article/comment/011/0004471741 \n",
      "https://n.news.naver.com/mnews/article/014/0005333061 ‘갤S25’ MX사업부, 호실적 이끌어... 악재산적 2분기 ‘엣지’ 판매량 관건[삼성전자 '트럼프 변수' 긴장]\n",
      "https://n.news.naver.com/mnews/article/comment/014/0005333061 \n",
      "https://n.news.naver.com/mnews/article/031/0000922930 찜솥 더위·높은 습도 견디는 고효율 태양전지 나온다 [지금은 과학]\n",
      "https://n.news.naver.com/mnews/article/comment/031/0000922930 \n",
      "https://n.news.naver.com/mnews/article/020/0003626869 GM “SDV 시대 준비 박차·슈퍼크루즈 20개 모델 이상 적용 완료”\n",
      "https://n.news.naver.com/mnews/article/comment/020/0003626869 \n",
      "https://n.news.naver.com/mnews/article/366/0001067701 2분짜리 영상도 뚝딱… 불붙은 아마존·오픈AI·구글 영상 AI 경쟁\n",
      "https://n.news.naver.com/mnews/article/comment/366/0001067701 \n",
      "https://n.news.naver.com/mnews/article/092/0002369863 K푸드에 닥친 '관세 쇼크'…삼양·LG생건 등 더 걱정\n",
      "https://n.news.naver.com/mnews/article/comment/092/0002369863 \n",
      "https://n.news.naver.com/mnews/article/009/0005472991 사흘간 비행기 5대 띄워 … 애플, 중국·인도産 아이폰 긴급수송\n",
      "https://n.news.naver.com/mnews/article/comment/009/0005472991 \n",
      "https://n.news.naver.com/mnews/article/584/0000031792 DNA까지 침투…나노플라스틱 생성 원리 최초 규명\n",
      "https://n.news.naver.com/mnews/article/comment/584/0000031792 \n",
      "https://n.news.naver.com/mnews/article/009/0005472950 옷장 비췄더니 AI가 \"이 옷 입으세요\"\n",
      "https://n.news.naver.com/mnews/article/comment/009/0005472950 \n",
      "https://n.news.naver.com/mnews/article/081/0003531813 美 스탠퍼드대 ‘AI 보고서’ 선정된 유일한 한국 모델은?\n",
      "https://n.news.naver.com/mnews/article/comment/081/0003531813 \n",
      "https://n.news.naver.com/mnews/article/366/0001067696 의협, “내년 의대 정원 3058명으로”…정부·국회에 대화 요구도\n",
      "https://n.news.naver.com/mnews/article/comment/366/0001067696 \n",
      "https://n.news.naver.com/mnews/article/092/0002369861 BBQ, 법정관리 '위메프' 품을까...\"인수 의향서 제출\"\n",
      "https://n.news.naver.com/mnews/article/comment/092/0002369861 \n",
      "https://n.news.naver.com/mnews/article/138/0002194290 키움증권 ‘전산 먹통’ 논란…  결국 다우기술로 불똥튀나\n",
      "https://n.news.naver.com/mnews/article/comment/138/0002194290 \n",
      "https://n.news.naver.com/mnews/article/009/0005472938 삼성이 찜한 유럽 바이오벤처, 日 다이호가 인수\n",
      "https://n.news.naver.com/mnews/article/comment/009/0005472938 \n",
      "https://n.news.naver.com/mnews/article/009/0005472935 \"기존 약물 새 쓰임새, AI로 찾아냅니다\"\n",
      "https://n.news.naver.com/mnews/article/comment/009/0005472935 \n",
      "https://n.news.naver.com/mnews/article/029/0002946759 `한국계 우주비행사` 조니 김, 러 우주선 타고 국제우주정거장 `발사`\n",
      "https://n.news.naver.com/mnews/article/comment/029/0002946759 \n",
      "https://n.news.naver.com/mnews/article/138/0002194287 [DD퇴근길] '갤럭시S25' 통했나?…삼성전자, 1Q 어닝서프라이즈\n",
      "https://n.news.naver.com/mnews/article/comment/138/0002194287 \n",
      "https://n.news.naver.com/mnews/article/138/0002194286 악성문자 발송단계서 원천차단…'엑스레이' 서비스, 9일부터 시범 운영\n",
      "https://n.news.naver.com/mnews/article/comment/138/0002194286 \n",
      "https://n.news.naver.com/mnews/article/003/0013171527 아이폰 미리 사야할까…관세 쇼크에 美에선 일부 사재기 현상\n",
      "https://n.news.naver.com/mnews/article/comment/003/0013171527 \n",
      "https://n.news.naver.com/mnews/article/092/0002369859 순이익 3분의 1인데…MBK, '오스템임플란트' 고배당 논란\n",
      "https://n.news.naver.com/mnews/article/comment/092/0002369859 \n"
     ]
    }
   ],
   "source": [
    "import requests\n",
    "from bs4 import BeautifulSoup\n",
    "\n",
    "section_dict = {\n",
    "    100: \"정치\",\n",
    "    101: \"경제\",\n",
    "    102: \"사회\",\n",
    "    103: \"생활/문화\",\n",
    "    104: \"세계\",\n",
    "    105: \"IT/과학\",\n",
    "}\n",
    "\n",
    "def print_news(sid):  # print_new(103)\n",
    "    section = section_dict[sid]\n",
    "    req_param = {\"sid\": sid}\n",
    "    #\n",
    "    url = \"https://news.naver.com/section/{sid}\".format(**req_param)\n",
    "    print(f'=====>{url} {section} 뉴스 <=====')\n",
    "    \n",
    "    # 요청 헤더 설정 : 브라우저 정보(사람처럼 보이게 하려고 설정하는 것임임)\n",
    "    req_header = {\n",
    "        'user-agent': 'Mozilla/5.0 (Windows NT 10.0; Win64; x64) AppleWebKit/537.36 (KHTML, like Gecko) Chrome/135.0.0.0 Safari/537.36'\n",
    "    }\n",
    "\n",
    "    # requests 의 get() 함수 호출하기 \n",
    "    res = requests.get(url, headers=req_header)\n",
    "    print(res)\n",
    "    print(type(res))\n",
    "    print(res.status_code, res.ok)\n",
    "    \n",
    "    if res.ok:\n",
    "        # 응답 (response)에서 text 추출 - surce 보기\n",
    "        html = res.text\n",
    "        # BeautifulSoup 객체 생성  \n",
    "        soup = BeautifulSoup(html, 'html.parser')\n",
    "        #print(soup)\n",
    "        # CSS 선택자\n",
    "        # <div class='sa_text'><a href=''></a></div>에 mnews/article라는 말이 들어간 것을 찾아라\n",
    "        print(len(soup.select(\"div.box_tit a[href*='mnews/article']\")))\n",
    "        a_tag_list = soup.select(\"div.box_tit a[href*='mnews/article']\")\n",
    "        print(type(a_tag_list)) # [<a></a>] ResultSet 객체, [<a></a>] : Tag객체\n",
    "        \n",
    "        for a_tag in a_tag_list:\n",
    "            # print(type(a_tag))\n",
    "            title = a_tag.text.strip()\n",
    "            # href 속성의 값 가져오기\n",
    "            link = a_tag['href']\n",
    "            print(link, title)\n",
    "\n",
    "        # <a> 태그 리스트 순회하기    \n",
    "    else:    \n",
    "        # 응답(response)이 Error 이면 status code 출력    \n",
    "        print(f'에러 코드 = {res.status_code}')\n",
    "    \n",
    "#함수 호출\n",
    "print_news(105)"
   ]
  },
  {
   "cell_type": "markdown",
   "id": "323196dc",
   "metadata": {},
   "source": [
    "### 2. Image 다운로드\n",
    "* referer 요청 헤더를 반드시 설정해야 한다."
   ]
  },
  {
   "cell_type": "code",
   "execution_count": null,
   "id": "c72d6cb1",
   "metadata": {},
   "outputs": [
    {
     "name": "stdout",
     "output_type": "stream",
     "text": [
      "200\n",
      "writing to 20220804112251_d97bd1e1b38f0cd022e4e3639d2926b3_IMAG01_1.jpg(299,319 bytes)\n",
      "200\n",
      "writing to 20220804112251_d97bd1e1b38f0cd022e4e3639d2926b3_IMAG01_2.jpg(163,333 bytes)\n",
      "200\n",
      "writing to 20220804112251_d97bd1e1b38f0cd022e4e3639d2926b3_IMAG01_3.jpg(182,530 bytes)\n"
     ]
    }
   ],
   "source": [
    "import requests\n",
    "import os\n",
    "\n",
    "req_header = {\n",
    "    'referer':''\n",
    "}\n",
    "\n",
    "img_urls = [\n",
    "    'https://image-comic.pstatic.net/webtoon/798173/5/20220804112251_d97bd1e1b38f0cd022e4e3639d2926b3_IMAG01_1.jpg',\n",
    "    'https://image-comic.pstatic.net/webtoon/798173/5/20220804112251_d97bd1e1b38f0cd022e4e3639d2926b3_IMAG01_2.jpg',\n",
    "    'https://image-comic.pstatic.net/webtoon/798173/5/20220804112251_d97bd1e1b38f0cd022e4e3639d2926b3_IMAG01_3.jpg'\n",
    "]\n",
    "\n",
    "for img_url in img_urls:\n",
    "    pass\n",
    "    # requests 의 get(url, headers) 함수 호출하기 \n",
    "        \n",
    "        # binary 응답 데이터 가져오기\n",
    "        \n",
    "        # url에서 파일명만 추출하기\n",
    "        \n",
    "        # binday data를 file에 write하기\n"
   ]
  },
  {
   "cell_type": "markdown",
   "id": "e8b00a04",
   "metadata": {},
   "source": [
    "* 현재 요청된 페이지의 image 모두 다운로드 해보기"
   ]
  },
  {
   "cell_type": "code",
   "execution_count": null,
   "id": "b30f7bf5",
   "metadata": {},
   "outputs": [],
   "source": []
  },
  {
   "cell_type": "markdown",
   "id": "2ac9f5f9",
   "metadata": {},
   "source": [
    "### 3. 파일 업로드 하기\n",
    "* http://httpbin.org/post 업로드 요청을 할 수 있는 url"
   ]
  },
  {
   "cell_type": "code",
   "execution_count": null,
   "id": "04da4790",
   "metadata": {},
   "outputs": [
    {
     "name": "stdout",
     "output_type": "stream",
     "text": [
      "200\n"
     ]
    }
   ],
   "source": [
    "import requests\n",
    "\n",
    "upload_files = {\n",
    "    \n",
    "}\n",
    "#print(upload_files)\n",
    "\n",
    "url = 'http://httpbin.org/post'\n",
    "# file 업로드 하려면 requests의 post 함수에 files 속성을 사용합니다.\n",
    "\n"
   ]
  },
  {
   "cell_type": "markdown",
   "id": "7ad65f12",
   "metadata": {},
   "source": [
    "### 4. 캡챠(이미지) API 호출하기\n",
    "* urllib 사용\n",
    "* 1. 캡차 키 발급 요청\n",
    "  2. 캡차 이미지 요청\n",
    "  3. 사용자 입력값 검증 요청"
   ]
  },
  {
   "cell_type": "code",
   "execution_count": 2,
   "id": "bc4ae360-e772-4873-8642-d3494edd34e1",
   "metadata": {},
   "outputs": [],
   "source": [
    "# 캡차 키 발급 요청\n"
   ]
  },
  {
   "cell_type": "code",
   "execution_count": 1,
   "id": "7b95b6a0-c218-4792-82a6-da4d80872071",
   "metadata": {},
   "outputs": [],
   "source": [
    "# 캡차 이미지 요청\n"
   ]
  },
  {
   "cell_type": "code",
   "execution_count": 3,
   "id": "a79076af-2cd0-4de2-8301-316b9130c55e",
   "metadata": {},
   "outputs": [],
   "source": [
    "#  사용자 입력값 검증 요청\n",
    "\n"
   ]
  },
  {
   "cell_type": "markdown",
   "id": "b7d984a6",
   "metadata": {},
   "source": [
    "* requests를 사용하는 코드로 변경하기\n",
    "* [requests docs](https://requests.readthedocs.io/en/latest/user/quickstart/)"
   ]
  },
  {
   "cell_type": "code",
   "execution_count": null,
   "id": "727b427b",
   "metadata": {
    "scrolled": true
   },
   "outputs": [
    {
     "name": "stdout",
     "output_type": "stream",
     "text": [
      "Error Code: 403\n"
     ]
    }
   ],
   "source": [
    "# 사용자 입력값 검증 요청\n",
    "\n"
   ]
  },
  {
   "cell_type": "markdown",
   "id": "d5e1179a",
   "metadata": {},
   "source": [
    "### 5. 블로그 검색하기"
   ]
  },
  {
   "cell_type": "code",
   "execution_count": null,
   "id": "877d0c7f",
   "metadata": {},
   "outputs": [],
   "source": [
    "import requests\n",
    "import pprint\n",
    "\n",
    "headers = {\n",
    "    'X-Naver-Client-Id': '',\n",
    "    'X-Naver-Client-Secret': '',\n",
    "}\n",
    "\n",
    "payload = {\n",
    "    'query': '파이썬',\n",
    "    'display': 100,\n",
    "    'sort': 'sim'\n",
    "}\n",
    "\n",
    "url = 'https://openapi.naver.com/v1/search/blog.json'\n",
    "\n",
    "\n",
    "# requests get(url, params, headers) 요청 \n",
    "\n",
    "# json() 함수로 응답 결과 가져오오기\n",
    "# 'title' , 'bloggername' , 'description' , 'bloggerlink' , 'link'\n",
    "\n",
    "# 'data/nhnblog.txt' 파일 생성하기\n"
   ]
  }
 ],
 "metadata": {
  "kernelspec": {
   "display_name": "base",
   "language": "python",
   "name": "python3"
  },
  "language_info": {
   "codemirror_mode": {
    "name": "ipython",
    "version": 3
   },
   "file_extension": ".py",
   "mimetype": "text/x-python",
   "name": "python",
   "nbconvert_exporter": "python",
   "pygments_lexer": "ipython3",
   "version": "3.12.7"
  }
 },
 "nbformat": 4,
 "nbformat_minor": 5
}
